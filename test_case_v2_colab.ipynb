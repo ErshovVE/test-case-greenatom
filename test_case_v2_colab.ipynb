{
  "cells": [
    {
      "cell_type": "code",
      "execution_count": 14,
      "id": "ecd3022d",
      "metadata": {
        "id": "ecd3022d"
      },
      "outputs": [],
      "source": [
        "#Импорт зависимостей\n",
        "from tensorflow import keras as K\n",
        "import numpy as np\n",
        "import string\n",
        "import os\n",
        "import shutil\n",
        "import matplotlib.pyplot as plt\n",
        "%matplotlib inline"
      ]
    },
    {
      "cell_type": "code",
      "execution_count": 15,
      "id": "5a4cfcbc",
      "metadata": {
        "colab": {
          "base_uri": "https://localhost:8080/",
          "height": 0
        },
        "id": "5a4cfcbc",
        "outputId": "73fc3fad-4b09-462c-b6d9-2e05365c1aea"
      },
      "outputs": [
        {
          "output_type": "stream",
          "name": "stdout",
          "text": [
            "['README', 'imdb.vocab', 'imdbEr.txt', 'train', 'test']\n",
            "['urls_neg.txt', 'urls_pos.txt', 'urls_unsup.txt', 'labeledBow.feat', 'neg', 'pos', 'unsup', 'unsupBow.feat']\n",
            "['urls_neg.txt', 'urls_pos.txt', 'labeledBow.feat', 'neg', 'pos']\n"
          ]
        }
      ],
      "source": [
        "#Разархивируем данные и посмотрим что внутри\n",
        "!tar -xf aclImdb_v1.tar.gz\n",
        "print(os.listdir('aclImdb/'))\n",
        "print(os.listdir('aclImdb/train'))\n",
        "print(os.listdir('aclImdb/test'))"
      ]
    },
    {
      "cell_type": "code",
      "execution_count": 16,
      "id": "eb57c343",
      "metadata": {
        "id": "eb57c343"
      },
      "outputs": [],
      "source": [
        "#Удалим папку unsup, оставим только pos и neg\n",
        "shutil.rmtree('aclImdb/train/unsup')"
      ]
    },
    {
      "cell_type": "code",
      "execution_count": 77,
      "id": "3552f6e1",
      "metadata": {
        "id": "3552f6e1"
      },
      "outputs": [],
      "source": [
        "#Константы\n",
        "BATCH_SIZE = 128\n",
        "MAX_FEATURES = 25000\n",
        "EMBEDDING_DIM = 256\n",
        "SEQUENCE_LENGTH = 1000\n",
        "EPOCHS = 10"
      ]
    },
    {
      "cell_type": "code",
      "execution_count": 78,
      "id": "6f950799",
      "metadata": {
        "colab": {
          "base_uri": "https://localhost:8080/",
          "height": 0
        },
        "id": "6f950799",
        "outputId": "e9fe52db-4476-4de4-8cea-982fd9157052"
      },
      "outputs": [
        {
          "output_type": "stream",
          "name": "stdout",
          "text": [
            "Found 25000 files belonging to 2 classes.\n",
            "Using 20000 files for training.\n",
            "Found 25000 files belonging to 2 classes.\n",
            "Using 5000 files for validation.\n",
            "Found 25000 files belonging to 2 classes.\n"
          ]
        }
      ],
      "source": [
        "#Создадим дадасет для обучения\n",
        "raw_train_ds = K.preprocessing.text_dataset_from_directory(\n",
        "        \"aclImdb/train\",\n",
        "        batch_size = BATCH_SIZE,\n",
        "        seed = 1,\n",
        "        validation_split=0.2,\n",
        "        subset=\"training\",\n",
        "        )\n",
        "\n",
        "raw_val_ds = K.preprocessing.text_dataset_from_directory(\n",
        "    \"aclImdb/train\",\n",
        "    batch_size = BATCH_SIZE,\n",
        "    seed = 1,\n",
        "    validation_split = 0.2,\n",
        "    subset = \"validation\",\n",
        "    )\n",
        "\n",
        "raw_test_ds = K.preprocessing.text_dataset_from_directory(\n",
        "        \"aclImdb/test\",\n",
        "        batch_size = BATCH_SIZE)"
      ]
    },
    {
      "cell_type": "code",
      "execution_count": 79,
      "id": "c8874012",
      "metadata": {
        "colab": {
          "base_uri": "https://localhost:8080/",
          "height": 0
        },
        "id": "c8874012",
        "outputId": "10879f4b-6bc4-4085-9bb0-fb9a319dcabc"
      },
      "outputs": [
        {
          "output_type": "stream",
          "name": "stdout",
          "text": [
            "b'Stupid and just plain weird movie about some kid who becomes traumatized when he finds out Santa isn\\'t real (???). He grows up and becomes an adult (Brandon Maggart) who makes lists of people who are naughty or nice. One Christmas he snaps and sets out to kill the naughty people--dressed as Santa of course.<br /><br />Boring and just plain bad killer Santa movie. If you\\'re looking for gore, it\\'s not here. Only a few of the murders are shown and they\\'re not that gory with VERY fake effects. Most of the movie just contains Brandon Maggart talking to himself and slowly going crazy. The script is trite, the acting is terrible and it leads to an ending which had me staring slack-jawed at the TV. Seriously, I had to rewind the tape and watch it again to make sure I wasn\\'t hallucinating! Really REALLY poor ending.<br /><br />If you want a scary Christmas flick rent \"Black Christmas\" (the original 70s version---NOT the terrible remake). Avoid this one at all costs.'\n",
            "0\n"
          ]
        }
      ],
      "source": [
        "#Посмотрим на один элемент батча\n",
        "for text_batch, label_batch in raw_train_ds.take(1):\n",
        "    for i in range(1):\n",
        "        print(text_batch.numpy()[i])\n",
        "        print(label_batch.numpy()[i])"
      ]
    },
    {
      "cell_type": "code",
      "execution_count": 80,
      "id": "51d768df",
      "metadata": {
        "id": "51d768df"
      },
      "outputs": [],
      "source": [
        "#Создадим слой векторизации, который переводит текст в вектор.\n",
        "#Приведем все слова к нижнему регистру, уберем пунктуацию\n",
        "vectorize_layer = K.layers.TextVectorization(\n",
        "                standardize = 'lower_and_strip_punctuation',\n",
        "                max_tokens = MAX_FEATURES,\n",
        "                output_mode = 'int',\n",
        "                output_sequence_length = SEQUENCE_LENGTH)\n",
        "\n",
        "text_ds = raw_train_ds.map(lambda x, y: x) #Удалим класс, оставим только текст\n",
        "vectorize_layer.adapt(text_ds)"
      ]
    },
    {
      "cell_type": "code",
      "execution_count": 81,
      "id": "4522f1c1",
      "metadata": {
        "id": "4522f1c1"
      },
      "outputs": [],
      "source": [
        "#В случае, если на конец эпохи точность будет выше 97% или\n",
        "#валидационный лосс прекратит расти, закончим обучение\n",
        "class myCallback(K.callbacks.Callback):\n",
        "    def on_epoch_end(self, epoch, logs={}):\n",
        "        if(logs.get('acc')>0.97):\n",
        "            print(\"\\nReached 97.0% accuracy so cancelling training!\")\n",
        "            self.model.stop_training = True\n",
        "mycallback = myCallback()\n",
        "earlystop = K.callbacks.EarlyStopping(monitor='val_loss', patience=3)\n",
        "\n",
        "#сохраним лучшую модель\n",
        "checkpointer = K.callbacks.ModelCheckpoint(filepath=\"export_model\",\n",
        "                                                  monitor=\"val_loss\",\n",
        "                                                  verbose=0,\n",
        "                                                  save_best_only=True)"
      ]
    },
    {
      "cell_type": "code",
      "execution_count": 82,
      "id": "4bdd56f5",
      "metadata": {
        "id": "4bdd56f5"
      },
      "outputs": [],
      "source": [
        "#Создадим модель\n",
        "model = K.Sequential(\n",
        "    [\n",
        "        K.Input(shape=(1,), dtype=\"string\"),\n",
        "        vectorize_layer,\n",
        "        K.layers.Embedding(MAX_FEATURES, EMBEDDING_DIM),\n",
        "        K.layers.Dropout(0.5),\n",
        "        K.layers.Bidirectional(K.layers.LSTM(64, return_sequences=True)),\n",
        "        K.layers.Bidirectional(K.layers.LSTM(64,)),\n",
        "        K.layers.Dense(128, activation=\"relu\"),\n",
        "        K.layers.Dropout(0.5),\n",
        "        K.layers.Dense(1, activation=\"sigmoid\", name=\"predictions\"),\n",
        "    ])"
      ]
    },
    {
      "cell_type": "code",
      "execution_count": 83,
      "id": "773d691e",
      "metadata": {
        "id": "773d691e"
      },
      "outputs": [],
      "source": [
        "#Скомпилируем ее\n",
        "model.compile(loss=\"binary_crossentropy\",\n",
        "              optimizer=\"adam\",\n",
        "              metrics=[\"acc\"],\n",
        "             )"
      ]
    },
    {
      "cell_type": "code",
      "execution_count": 84,
      "id": "40c59e9c",
      "metadata": {
        "colab": {
          "base_uri": "https://localhost:8080/",
          "height": 0
        },
        "id": "40c59e9c",
        "outputId": "c89f1f64-4753-4fea-a42d-2a1c94b0d2e9"
      },
      "outputs": [
        {
          "output_type": "stream",
          "name": "stdout",
          "text": [
            "Model: \"sequential_5\"\n",
            "_________________________________________________________________\n",
            " Layer (type)                Output Shape              Param #   \n",
            "=================================================================\n",
            " text_vectorization_6 (TextV  (None, 1000)             0         \n",
            " ectorization)                                                   \n",
            "                                                                 \n",
            " embedding_6 (Embedding)     (None, 1000, 256)         6400000   \n",
            "                                                                 \n",
            " dropout_11 (Dropout)        (None, 1000, 256)         0         \n",
            "                                                                 \n",
            " bidirectional_10 (Bidirecti  (None, 1000, 128)        164352    \n",
            " onal)                                                           \n",
            "                                                                 \n",
            " bidirectional_11 (Bidirecti  (None, 128)              98816     \n",
            " onal)                                                           \n",
            "                                                                 \n",
            " dense_5 (Dense)             (None, 128)               16512     \n",
            "                                                                 \n",
            " dropout_12 (Dropout)        (None, 128)               0         \n",
            "                                                                 \n",
            " predictions (Dense)         (None, 1)                 129       \n",
            "                                                                 \n",
            "=================================================================\n",
            "Total params: 6,679,809\n",
            "Trainable params: 6,679,809\n",
            "Non-trainable params: 0\n",
            "_________________________________________________________________\n"
          ]
        }
      ],
      "source": [
        "model.summary()"
      ]
    },
    {
      "cell_type": "code",
      "execution_count": 85,
      "id": "d526e6a9",
      "metadata": {
        "colab": {
          "base_uri": "https://localhost:8080/",
          "height": 0
        },
        "id": "d526e6a9",
        "outputId": "94b4464c-e7f7-46da-85e0-84eabe842052"
      },
      "outputs": [
        {
          "output_type": "stream",
          "name": "stdout",
          "text": [
            "Epoch 1/10\n",
            "157/157 [==============================] - ETA: 0s - loss: 0.5406 - acc: 0.7225"
          ]
        },
        {
          "output_type": "stream",
          "name": "stderr",
          "text": [
            "WARNING:absl:Found untraced functions such as lstm_cell_61_layer_call_fn, lstm_cell_61_layer_call_and_return_conditional_losses, lstm_cell_62_layer_call_fn, lstm_cell_62_layer_call_and_return_conditional_losses, lstm_cell_64_layer_call_fn while saving (showing 5 of 8). These functions will not be directly callable after loading.\n"
          ]
        },
        {
          "output_type": "stream",
          "name": "stdout",
          "text": [
            "INFO:tensorflow:Assets written to: export_model/assets\n"
          ]
        },
        {
          "output_type": "stream",
          "name": "stderr",
          "text": [
            "INFO:tensorflow:Assets written to: export_model/assets\n",
            "WARNING:absl:<keras.layers.recurrent.LSTMCell object at 0x7fd8cdba4050> has the same name 'LSTMCell' as a built-in Keras object. Consider renaming <class 'keras.layers.recurrent.LSTMCell'> to avoid naming conflicts when loading with `tf.keras.models.load_model`. If renaming is not possible, pass the object in the `custom_objects` parameter of the load function.\n",
            "WARNING:absl:<keras.layers.recurrent.LSTMCell object at 0x7fd8d32f1690> has the same name 'LSTMCell' as a built-in Keras object. Consider renaming <class 'keras.layers.recurrent.LSTMCell'> to avoid naming conflicts when loading with `tf.keras.models.load_model`. If renaming is not possible, pass the object in the `custom_objects` parameter of the load function.\n",
            "WARNING:absl:<keras.layers.recurrent.LSTMCell object at 0x7fd8d21c2110> has the same name 'LSTMCell' as a built-in Keras object. Consider renaming <class 'keras.layers.recurrent.LSTMCell'> to avoid naming conflicts when loading with `tf.keras.models.load_model`. If renaming is not possible, pass the object in the `custom_objects` parameter of the load function.\n",
            "WARNING:absl:<keras.layers.recurrent.LSTMCell object at 0x7fd8d2f39850> has the same name 'LSTMCell' as a built-in Keras object. Consider renaming <class 'keras.layers.recurrent.LSTMCell'> to avoid naming conflicts when loading with `tf.keras.models.load_model`. If renaming is not possible, pass the object in the `custom_objects` parameter of the load function.\n"
          ]
        },
        {
          "output_type": "stream",
          "name": "stdout",
          "text": [
            "\b\b\b\b\b\b\b\b\b\b\b\b\b\b\b\b\b\b\b\b\b\b\b\b\b\b\b\b\b\b\b\b\b\b\b\b\b\b\b\b\b\b\b\b\b\b\b\b\b\b\b\b\b\b\b\b\b\b\b\b\b\b\b\b\b\b\b\b\b\b\b\b\b\b\b\b\b\b\b\r157/157 [==============================] - 145s 876ms/step - loss: 0.5406 - acc: 0.7225 - val_loss: 0.3915 - val_acc: 0.8404\n",
            "Epoch 2/10\n",
            "157/157 [==============================] - ETA: 0s - loss: 0.3033 - acc: 0.8845"
          ]
        },
        {
          "output_type": "stream",
          "name": "stderr",
          "text": [
            "WARNING:absl:Found untraced functions such as lstm_cell_61_layer_call_fn, lstm_cell_61_layer_call_and_return_conditional_losses, lstm_cell_62_layer_call_fn, lstm_cell_62_layer_call_and_return_conditional_losses, lstm_cell_64_layer_call_fn while saving (showing 5 of 8). These functions will not be directly callable after loading.\n"
          ]
        },
        {
          "output_type": "stream",
          "name": "stdout",
          "text": [
            "INFO:tensorflow:Assets written to: export_model/assets\n"
          ]
        },
        {
          "output_type": "stream",
          "name": "stderr",
          "text": [
            "INFO:tensorflow:Assets written to: export_model/assets\n",
            "WARNING:absl:<keras.layers.recurrent.LSTMCell object at 0x7fd8cdba4050> has the same name 'LSTMCell' as a built-in Keras object. Consider renaming <class 'keras.layers.recurrent.LSTMCell'> to avoid naming conflicts when loading with `tf.keras.models.load_model`. If renaming is not possible, pass the object in the `custom_objects` parameter of the load function.\n",
            "WARNING:absl:<keras.layers.recurrent.LSTMCell object at 0x7fd8d32f1690> has the same name 'LSTMCell' as a built-in Keras object. Consider renaming <class 'keras.layers.recurrent.LSTMCell'> to avoid naming conflicts when loading with `tf.keras.models.load_model`. If renaming is not possible, pass the object in the `custom_objects` parameter of the load function.\n",
            "WARNING:absl:<keras.layers.recurrent.LSTMCell object at 0x7fd8d21c2110> has the same name 'LSTMCell' as a built-in Keras object. Consider renaming <class 'keras.layers.recurrent.LSTMCell'> to avoid naming conflicts when loading with `tf.keras.models.load_model`. If renaming is not possible, pass the object in the `custom_objects` parameter of the load function.\n",
            "WARNING:absl:<keras.layers.recurrent.LSTMCell object at 0x7fd8d2f39850> has the same name 'LSTMCell' as a built-in Keras object. Consider renaming <class 'keras.layers.recurrent.LSTMCell'> to avoid naming conflicts when loading with `tf.keras.models.load_model`. If renaming is not possible, pass the object in the `custom_objects` parameter of the load function.\n"
          ]
        },
        {
          "output_type": "stream",
          "name": "stdout",
          "text": [
            "\b\b\b\b\b\b\b\b\b\b\b\b\b\b\b\b\b\b\b\b\b\b\b\b\b\b\b\b\b\b\b\b\b\b\b\b\b\b\b\b\b\b\b\b\b\b\b\b\b\b\b\b\b\b\b\b\b\b\b\b\b\b\b\b\b\b\b\b\b\b\b\b\b\b\b\b\b\b\b\r157/157 [==============================] - 135s 857ms/step - loss: 0.3033 - acc: 0.8845 - val_loss: 0.3558 - val_acc: 0.8492\n",
            "Epoch 3/10\n",
            "157/157 [==============================] - ETA: 0s - loss: 0.1781 - acc: 0.9375"
          ]
        },
        {
          "output_type": "stream",
          "name": "stderr",
          "text": [
            "WARNING:absl:Found untraced functions such as lstm_cell_61_layer_call_fn, lstm_cell_61_layer_call_and_return_conditional_losses, lstm_cell_62_layer_call_fn, lstm_cell_62_layer_call_and_return_conditional_losses, lstm_cell_64_layer_call_fn while saving (showing 5 of 8). These functions will not be directly callable after loading.\n"
          ]
        },
        {
          "output_type": "stream",
          "name": "stdout",
          "text": [
            "INFO:tensorflow:Assets written to: export_model/assets\n"
          ]
        },
        {
          "output_type": "stream",
          "name": "stderr",
          "text": [
            "INFO:tensorflow:Assets written to: export_model/assets\n",
            "WARNING:absl:<keras.layers.recurrent.LSTMCell object at 0x7fd8cdba4050> has the same name 'LSTMCell' as a built-in Keras object. Consider renaming <class 'keras.layers.recurrent.LSTMCell'> to avoid naming conflicts when loading with `tf.keras.models.load_model`. If renaming is not possible, pass the object in the `custom_objects` parameter of the load function.\n",
            "WARNING:absl:<keras.layers.recurrent.LSTMCell object at 0x7fd8d32f1690> has the same name 'LSTMCell' as a built-in Keras object. Consider renaming <class 'keras.layers.recurrent.LSTMCell'> to avoid naming conflicts when loading with `tf.keras.models.load_model`. If renaming is not possible, pass the object in the `custom_objects` parameter of the load function.\n",
            "WARNING:absl:<keras.layers.recurrent.LSTMCell object at 0x7fd8d21c2110> has the same name 'LSTMCell' as a built-in Keras object. Consider renaming <class 'keras.layers.recurrent.LSTMCell'> to avoid naming conflicts when loading with `tf.keras.models.load_model`. If renaming is not possible, pass the object in the `custom_objects` parameter of the load function.\n",
            "WARNING:absl:<keras.layers.recurrent.LSTMCell object at 0x7fd8d2f39850> has the same name 'LSTMCell' as a built-in Keras object. Consider renaming <class 'keras.layers.recurrent.LSTMCell'> to avoid naming conflicts when loading with `tf.keras.models.load_model`. If renaming is not possible, pass the object in the `custom_objects` parameter of the load function.\n"
          ]
        },
        {
          "output_type": "stream",
          "name": "stdout",
          "text": [
            "\b\b\b\b\b\b\b\b\b\b\b\b\b\b\b\b\b\b\b\b\b\b\b\b\b\b\b\b\b\b\b\b\b\b\b\b\b\b\b\b\b\b\b\b\b\b\b\b\b\b\b\b\b\b\b\b\b\b\b\b\b\b\b\b\b\b\b\b\b\b\b\b\b\b\b\b\b\b\b\r157/157 [==============================] - 135s 858ms/step - loss: 0.1781 - acc: 0.9375 - val_loss: 0.3350 - val_acc: 0.8748\n",
            "Epoch 4/10\n",
            "157/157 [==============================] - 103s 657ms/step - loss: 0.1036 - acc: 0.9669 - val_loss: 0.4524 - val_acc: 0.8680\n",
            "Epoch 5/10\n",
            "157/157 [==============================] - ETA: 0s - loss: 0.0729 - acc: 0.9776\n",
            "Reached 97.0% accuracy so cancelling training!\n",
            "157/157 [==============================] - 103s 656ms/step - loss: 0.0729 - acc: 0.9776 - val_loss: 0.5480 - val_acc: 0.8522\n"
          ]
        }
      ],
      "source": [
        "#Запустим обучение\n",
        "history = model.fit(raw_train_ds,\n",
        "                    validation_data= raw_val_ds,\n",
        "                    epochs = EPOCHS,\n",
        "                    callbacks = [mycallback,earlystop,checkpointer])"
      ]
    },
    {
      "cell_type": "code",
      "execution_count": 73,
      "id": "c605e79e",
      "metadata": {
        "id": "c605e79e"
      },
      "outputs": [],
      "source": [
        "plt.style.use('ggplot')\n",
        "\n",
        "def plot_history(history):\n",
        "    acc = history.history['acc']\n",
        "    val_acc = history.history['val_acc']\n",
        "    loss = history.history['loss']\n",
        "    val_loss = history.history['val_loss']\n",
        "    x = range(1, len(acc) + 1)\n",
        "\n",
        "    plt.figure(figsize=(12, 5))\n",
        "    plt.subplot(1, 2, 1)\n",
        "    plt.plot(x, acc, 'b', label='Training acc')\n",
        "    plt.plot(x, val_acc, 'r', label='Validation acc')\n",
        "    plt.title('Training and validation accuracy')\n",
        "    plt.legend()\n",
        "    plt.subplot(1, 2, 2)\n",
        "    plt.plot(x, loss, 'b', label='Training loss')\n",
        "    plt.plot(x, val_loss, 'r', label='Validation loss')\n",
        "    plt.title('Training and validation loss')\n",
        "    plt.legend()"
      ]
    },
    {
      "cell_type": "code",
      "execution_count": 86,
      "id": "fe4ef8bb",
      "metadata": {
        "colab": {
          "base_uri": "https://localhost:8080/",
          "height": 337
        },
        "id": "fe4ef8bb",
        "outputId": "6f45c719-6d0a-439c-b487-fecf8744063c"
      },
      "outputs": [
        {
          "output_type": "display_data",
          "data": {
            "text/plain": [
              "<Figure size 864x360 with 2 Axes>"
            ],
            "image/png": "[encoded data removed]"
          },
          "metadata": {}
        }
      ],
      "source": [
        "plot_history(history)"
      ]
    },
    {
      "cell_type": "code",
      "execution_count": 87,
      "id": "fe105436",
      "metadata": {
        "colab": {
          "base_uri": "https://localhost:8080/",
          "height": 0
        },
        "id": "fe105436",
        "outputId": "60dba871-d885-4df4-bdb0-7e974afb868a"
      },
      "outputs": [
        {
          "output_type": "stream",
          "name": "stdout",
          "text": [
            "196/196 [==============================] - 45s 220ms/step - loss: 0.4038 - acc: 0.8517\n"
          ]
        },
        {
          "output_type": "execute_result",
          "data": {
            "text/plain": [
              "[0.40376877784729004, 0.8516799807548523]"
            ]
          },
          "metadata": {},
          "execution_count": 87
        }
      ],
      "source": [
        "#Оценим работу модели на тестовом датасете\n",
        "loaded_model = K.models.load_model('export_model')\n",
        "loaded_model.evaluate(raw_test_ds)"
      ]
    },
    {
      "cell_type": "code",
      "execution_count": 76,
      "id": "e39808ea",
      "metadata": {
        "colab": {
          "base_uri": "https://localhost:8080/",
          "height": 0
        },
        "id": "e39808ea",
        "outputId": "021aed42-86ae-4607-9611-185964eaeca6"
      },
      "outputs": [
        {
          "output_type": "stream",
          "name": "stdout",
          "text": [
            "Review:b'I recently watched the first Guinea Pig film, The Devil\\'s Experiment, and I must admit to being disappointed.<br /><br />This film is invariably included in any list of the \"nastiest\" films and maybe I was expecting more because of the hype. The truth is though, I don\\'t rate it.<br /><br />If I\\'d been watching it believing the opening text to be true (\"I found this tape...\"), I might have been a bit disturbed by it, thinking it was real. Even without the benefit of knowing it not to be real though, I think I\\'d have worked out that it indeed wasn\\'t.<br /><br />Throughout the film, the girl\\'s reactions to what is being done to her just aren\\'t what they should be. She should be screaming like a banshee in pain. The fact that she isn\\'t means that it\\'s obviously not real. I wouldn\\'t want to watch it if it were real but if she were to be more convincing in her acting, the film would be more disturbing.<br /><br />And then there are the notorious scenes: nothing affected me at all up until the scalpel in the hand. The hot oil, maggots and innards just didn\\'t bother me. I\\'m not saying I\\'m \"hard\"; just that I wasn\\'t able to suspend my disbelief, partly because of the girl\\'s inaction.<br /><br />The scalpel made me wince a little but the hammer to the hand just made the hand look rubber. And the final scene with the eye was again a little wincing but nothing more. I didn\\'t want to look away and neither did I feel nauseous.<br /><br />Perhaps it\\'s because the film is twenty-odd years old, or perhaps I\\'m just jaded. The truth is, I didn\\'t find this film at all disturbing.<br /><br />It\\'s the kind of thing you might expect to see playing on a loop as a modern art installation and as an exercise in stripping away characters, story etc. and just leaving the torture, it works on some levels. As a disturbing piece of film though, it didn\\'t work for me at least.<br /><br />I watched Guinea Pig with my wife, who is of the \"it\\'s just a film\" bent and she wondered what all the fuss was about. We got to discussing why I watch these films and my reasons are many but include a desire to be affected by a film. She said that she didn\\'t think any film could be so convincing as to disturb her and challenged me to do exactly that. I played her the fire extinguisher scene from Irreversible and she was indeed disturbed.<br /><br />I\\'m not sure I have a point, other than that both of us were more disturbed by a scene in a non-horror genre film than any film thus far which sets out to disturb.'\n",
            "True label:0\n",
            "Predict label:False\n"
          ]
        }
      ],
      "source": [
        "#Посмотрим на одном примере\n",
        "for text_batch, label_batch in raw_train_ds.take(1):\n",
        "    pred = model.predict(text_batch)\n",
        "    for i in range(1):\n",
        "        print(f'Review:{text_batch.numpy()[i]}')\n",
        "        print(f'True label:{label_batch.numpy()[i]}')\n",
        "        print(f'Predict label:{pred[i][0]>=0.5}')"
      ]
    }
  ],
  "metadata": {
    "kernelspec": {
      "display_name": "Python 3 (ipykernel)",
      "language": "python",
      "name": "python3"
    },
    "language_info": {
      "codemirror_mode": {
        "name": "ipython",
        "version": 3
      },
      "file_extension": ".py",
      "mimetype": "text/x-python",
      "name": "python",
      "nbconvert_exporter": "python",
      "pygments_lexer": "ipython3",
      "version": "3.9.7"
    },
    "colab": {
      "name": "test_case_v2_colab.ipynb",
      "provenance": [],
      "collapsed_sections": []
    },
    "accelerator": "GPU"
  },
  "nbformat": 4,
  "nbformat_minor": 5
}