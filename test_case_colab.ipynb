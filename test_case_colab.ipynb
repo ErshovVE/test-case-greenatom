{
  "cells": [
    {
      "cell_type": "code",
      "execution_count": 7,
      "id": "ecd3022d",
      "metadata": {
        "id": "ecd3022d"
      },
      "outputs": [],
      "source": [
        "#Импорт зависимостей\n",
        "from tensorflow import keras as K\n",
        "import tensorflow as tf\n",
        "import numpy as np\n",
        "import string\n",
        "import os\n",
        "import shutil\n",
        "import matplotlib.pyplot as plt\n",
        "%matplotlib inline"
      ]
    },
    {
      "cell_type": "code",
      "execution_count": 8,
      "id": "5a4cfcbc",
      "metadata": {
        "colab": {
          "base_uri": "https://localhost:8080/"
        },
        "id": "5a4cfcbc",
        "outputId": "80014d68-b61d-44a8-bc0f-70d7014f879a"
      },
      "outputs": [
        {
          "name": "stdout",
          "output_type": "stream",
          "text": [
            "['test', 'imdbEr.txt', 'README', 'train', 'imdb.vocab']\n",
            "['unsup', 'labeledBow.feat', 'neg', 'pos', 'urls_neg.txt', 'urls_unsup.txt', 'unsupBow.feat', 'urls_pos.txt']\n",
            "['labeledBow.feat', 'neg', 'pos', 'urls_neg.txt', 'urls_pos.txt']\n"
          ]
        }
      ],
      "source": [
        "#Разархивируем данные и посмотрим что внутри\n",
        "!tar -xf aclImdb_v1.tar.gz\n",
        "#!tar -xf '/content/drive/MyDrive/Colab Notebooks/aclImdb_v1.tar.gz'\n",
        "print(os.listdir('aclImdb/'))\n",
        "print(os.listdir('aclImdb/train'))\n",
        "print(os.listdir('aclImdb/test'))"
      ]
    },
    {
      "cell_type": "code",
      "execution_count": 9,
      "id": "eb57c343",
      "metadata": {
        "id": "eb57c343"
      },
      "outputs": [],
      "source": [
        "#Удалим папку unsup, оставим только pos и neg\n",
        "shutil.rmtree('aclImdb/train/unsup')"
      ]
    },
    {
      "cell_type": "code",
      "execution_count": 10,
      "id": "3552f6e1",
      "metadata": {
        "id": "3552f6e1"
      },
      "outputs": [],
      "source": [
        "#Константы\n",
        "BATCH_SIZE = 128\n",
        "MAX_FEATURES = 25000\n",
        "EMBEDDING_DIM = 256\n",
        "SEQUENCE_LENGTH = 1000\n",
        "EPOCHS = 30"
      ]
    },
    {
      "cell_type": "code",
      "execution_count": 11,
      "id": "6f950799",
      "metadata": {
        "colab": {
          "base_uri": "https://localhost:8080/"
        },
        "id": "6f950799",
        "outputId": "f165bb6b-d59e-4617-d9ce-4cbc8245c994"
      },
      "outputs": [
        {
          "name": "stdout",
          "output_type": "stream",
          "text": [
            "Found 25000 files belonging to 2 classes.\n",
            "Using 20000 files for training.\n",
            "Found 25000 files belonging to 2 classes.\n",
            "Using 5000 files for validation.\n",
            "Found 25000 files belonging to 2 classes.\n"
          ]
        }
      ],
      "source": [
        "#Создадим дадасет для обучения\n",
        "raw_train_ds = K.preprocessing.text_dataset_from_directory(\n",
        "    \"aclImdb/train\",\n",
        "    batch_size=BATCH_SIZE,\n",
        "    seed=1,\n",
        "    validation_split=0.2,\n",
        "    subset=\"training\",\n",
        ")\n",
        "\n",
        "raw_val_ds = K.preprocessing.text_dataset_from_directory(\n",
        "    \"aclImdb/train\",\n",
        "    batch_size = BATCH_SIZE,\n",
        "    seed = 1,\n",
        "    validation_split = 0.2,\n",
        "    subset = \"validation\",\n",
        "    )\n",
        "\n",
        "raw_test_ds = K.preprocessing.text_dataset_from_directory(\n",
        "    \"aclImdb/test\",\n",
        "    batch_size=BATCH_SIZE)\n"
      ]
    },
    {
      "cell_type": "code",
      "execution_count": 12,
      "id": "c8874012",
      "metadata": {
        "colab": {
          "base_uri": "https://localhost:8080/"
        },
        "id": "c8874012",
        "outputId": "459bedf6-b63e-4ccc-bb7b-47398925ada8"
      },
      "outputs": [
        {
          "name": "stdout",
          "output_type": "stream",
          "text": [
            "b'Stupid and just plain weird movie about some kid who becomes traumatized when he finds out Santa isn\\'t real (???). He grows up and becomes an adult (Brandon Maggart) who makes lists of people who are naughty or nice. One Christmas he snaps and sets out to kill the naughty people--dressed as Santa of course.<br /><br />Boring and just plain bad killer Santa movie. If you\\'re looking for gore, it\\'s not here. Only a few of the murders are shown and they\\'re not that gory with VERY fake effects. Most of the movie just contains Brandon Maggart talking to himself and slowly going crazy. The script is trite, the acting is terrible and it leads to an ending which had me staring slack-jawed at the TV. Seriously, I had to rewind the tape and watch it again to make sure I wasn\\'t hallucinating! Really REALLY poor ending.<br /><br />If you want a scary Christmas flick rent \"Black Christmas\" (the original 70s version---NOT the terrible remake). Avoid this one at all costs.'\n",
            "0\n"
          ]
        }
      ],
      "source": [
        "#Посмотрим на один элемент батча\n",
        "for text_batch, label_batch in raw_train_ds.take(1):\n",
        "    for i in range(1):\n",
        "        print(text_batch.numpy()[i])\n",
        "        print(label_batch.numpy()[i])\n"
      ]
    },
    {
      "cell_type": "code",
      "execution_count": 13,
      "id": "51d768df",
      "metadata": {
        "id": "51d768df"
      },
      "outputs": [],
      "source": [
        "#Создадим слой векторизации, который переводит текст в вектор.\n",
        "#Приведем все слова к нижнему регистру, уберем пунктуацию\n",
        "vectorize_layer = K.layers.TextVectorization(\n",
        "    standardize='lower_and_strip_punctuation',\n",
        "    max_tokens=MAX_FEATURES,\n",
        "    output_mode='int',\n",
        "    output_sequence_length=SEQUENCE_LENGTH)\n",
        "\n",
        "# Удалим класс, оставим только текст\n",
        "text_ds = raw_train_ds.map(lambda x, y: x)\n",
        "vectorize_layer.adapt(text_ds)\n"
      ]
    },
    {
      "cell_type": "code",
      "execution_count": 14,
      "id": "4522f1c1",
      "metadata": {
        "id": "4522f1c1"
      },
      "outputs": [],
      "source": [
        "#В случае, если на конец эпохи точность будет выше 97% или\n",
        "#валидационный лосс прекратит расти, закончим обучение\n",
        "class myCallback(K.callbacks.Callback):\n",
        "    def on_epoch_end(self, epoch, logs={}):\n",
        "        if(logs.get('acc')>0.97):\n",
        "            print(\"\\nReached 97.0% accuracy so cancelling training!\")\n",
        "            self.model.stop_training = True\n",
        "mycallback = myCallback()\n",
        "earlystop = K.callbacks.EarlyStopping(monitor='val_loss', patience=4)\n",
        "\n",
        "#сохраним лучшую модель №1\n",
        "checkpointer1 = K.callbacks.ModelCheckpoint(filepath=\"export_model1\",\n",
        "                                            monitor=\"val_loss\",\n",
        "                                            verbose=0,\n",
        "                                            save_best_only=True)\n",
        "\n",
        "#сохраним лучшую модель №2\n",
        "checkpointer2 = K.callbacks.ModelCheckpoint(filepath=\"export_model2\",\n",
        "                                            monitor=\"val_loss\",\n",
        "                                            verbose=0,\n",
        "                                            save_best_only=True)\n"
      ]
    },
    {
      "cell_type": "code",
      "execution_count": 15,
      "id": "c605e79e",
      "metadata": {
        "id": "c605e79e"
      },
      "outputs": [],
      "source": [
        "#Функция для отображения хода обучения\n",
        "plt.style.use('ggplot')\n",
        "\n",
        "def plot_history(history, metric):\n",
        "    acc = history.history[f'{metric}']\n",
        "    val_acc = history.history[f'val_{metric}']\n",
        "    loss = history.history['loss']\n",
        "    val_loss = history.history['val_loss']\n",
        "    x = range(1, len(acc) + 1)\n",
        "\n",
        "    plt.figure(figsize=(12, 5))\n",
        "    plt.subplot(1, 2, 1)\n",
        "    plt.plot(x, acc, 'b', label=f'Training {metric}')\n",
        "    plt.plot(x, val_acc, 'r', label=f'Validation {metric}')\n",
        "    plt.title(f'Training and validation {metric}')\n",
        "    plt.legend()\n",
        "    plt.subplot(1, 2, 2)\n",
        "    plt.plot(x, loss, 'b', label='Training loss')\n",
        "    plt.plot(x, val_loss, 'r', label='Validation loss')\n",
        "    plt.title('Training and validation loss')\n",
        "    plt.legend()"
      ]
    },
    {
      "cell_type": "code",
      "execution_count": 15,
      "id": "N3VTKxi80YPN",
      "metadata": {
        "id": "N3VTKxi80YPN"
      },
      "outputs": [],
      "source": []
    },
    {
      "cell_type": "code",
      "execution_count": 16,
      "id": "jjzSgxAt0hAt",
      "metadata": {
        "id": "jjzSgxAt0hAt"
      },
      "outputs": [],
      "source": [
        "#Создадим модель для \"звездного рейтинга\""
      ]
    },
    {
      "cell_type": "code",
      "execution_count": 17,
      "id": "uuowtcZF0fLN",
      "metadata": {
        "id": "uuowtcZF0fLN"
      },
      "outputs": [],
      "source": [
        "#Составим датасет\n",
        "pos_train = os.listdir('aclImdb/train/pos')\n",
        "neg_train = os.listdir('aclImdb/train/neg')\n",
        "pos_test = os.listdir('aclImdb/test/pos')\n",
        "neg_test = os.listdir('aclImdb/test/neg')\n",
        "\n",
        "pos_train_y = []\n",
        "pos_train_x = []\n",
        "neg_train_y = []\n",
        "neg_train_x = []\n",
        "pos_test_y = []\n",
        "pos_test_x = []\n",
        "neg_test_y =[]\n",
        "neg_test_x = []\n",
        "\n",
        "for file in pos_train:\n",
        "    with open('aclImdb/train/pos/' + file, encoding = 'utf-8') as f:\n",
        "        pos_train_x.append(f.read())\n",
        "    file = int((file.split('_')[1]).split('.')[0])\n",
        "    pos_train_y.append(file)\n",
        "for file in neg_train:\n",
        "    with open('aclImdb/train/neg/' + file, encoding = 'utf-8') as f:\n",
        "        neg_train_x.append(f.read())\n",
        "    file = int((file.split('_')[1]).split('.')[0])\n",
        "    neg_train_y.append(file)\n",
        "for file in pos_test:\n",
        "    with open('aclImdb/test/pos/' + file, encoding = 'utf-8') as f:\n",
        "        pos_test_x.append(f.read())\n",
        "    file = int((file.split('_')[1]).split('.')[0])\n",
        "    pos_test_y.append(file)\n",
        "for file in neg_test:\n",
        "    with open('aclImdb/test/neg/' + file, encoding = 'utf-8') as f:\n",
        "        neg_test_x.append(f.read())\n",
        "    file = int((file.split('_')[1]).split('.')[0])\n",
        "    neg_test_y.append(file)\n",
        "\n",
        "train_ds_x = pos_train_x + neg_train_x\n",
        "train_ds_y = pos_train_y + neg_train_y\n",
        "test_ds_x = pos_test_x + neg_test_x\n",
        "test_ds_y = pos_test_y + neg_test_y\n",
        "\n",
        "train_ds = tf.data.Dataset.from_tensor_slices((train_ds_x, train_ds_y)).shuffle(25000).batch(BATCH_SIZE)\n",
        "            \n",
        "train_size = int(0.8 * len(train_ds))\n",
        "train_ds1 = train_ds.take(train_size)\n",
        "val_ds1 = train_ds.skip(train_size)\n",
        "test_ds1 = tf.data.Dataset.from_tensor_slices((test_ds_x, test_ds_y)).shuffle(25000).batch(BATCH_SIZE)\n",
        "            \n"
      ]
    },
    {
      "cell_type": "code",
      "execution_count": 17,
      "id": "gr8bGTg20YR_",
      "metadata": {
        "id": "gr8bGTg20YR_"
      },
      "outputs": [],
      "source": []
    },
    {
      "cell_type": "code",
      "execution_count": 18,
      "id": "q5pJ1N450mKu",
      "metadata": {
        "id": "q5pJ1N450mKu"
      },
      "outputs": [],
      "source": [
        "#Модель \"звездного рейтинга\"\n",
        "model1 = K.Sequential(\n",
        "    [\n",
        "        K.Input(shape=(1,), dtype=\"string\"),\n",
        "        vectorize_layer,\n",
        "        K.layers.Embedding(MAX_FEATURES, EMBEDDING_DIM),\n",
        "        K.layers.Dropout(0.5),\n",
        "        K.layers.Bidirectional(K.layers.LSTM(64, return_sequences=True)),\n",
        "        K.layers.Bidirectional(K.layers.LSTM(64,)),\n",
        "        K.layers.Dense(128, activation=\"relu\"),\n",
        "        K.layers.Dropout(0.5),\n",
        "        K.layers.Dense(1, name=\"predictions\"),\n",
        "    ])\n",
        "\n",
        "model1.compile(loss=\"MSE\",\n",
        "               optimizer='Adam',\n",
        "               metrics=[\"MSE\"],\n",
        "             )"
      ]
    },
    {
      "cell_type": "code",
      "execution_count": 19,
      "id": "kBYqwUDZ1WRo",
      "metadata": {
        "colab": {
          "base_uri": "https://localhost:8080/"
        },
        "id": "kBYqwUDZ1WRo",
        "outputId": "9bcb8dd8-0806-41d7-d39f-861c249d43f0"
      },
      "outputs": [
        {
          "name": "stdout",
          "output_type": "stream",
          "text": [
            "Model: \"sequential\"\n",
            "_________________________________________________________________\n",
            " Layer (type)                Output Shape              Param #   \n",
            "=================================================================\n",
            " text_vectorization (TextVec  (None, 1000)             0         \n",
            " torization)                                                     \n",
            "                                                                 \n",
            " embedding (Embedding)       (None, 1000, 256)         6400000   \n",
            "                                                                 \n",
            " dropout (Dropout)           (None, 1000, 256)         0         \n",
            "                                                                 \n",
            " bidirectional (Bidirectiona  (None, 1000, 128)        164352    \n",
            " l)                                                              \n",
            "                                                                 \n",
            " bidirectional_1 (Bidirectio  (None, 128)              98816     \n",
            " nal)                                                            \n",
            "                                                                 \n",
            " dense (Dense)               (None, 128)               16512     \n",
            "                                                                 \n",
            " dropout_1 (Dropout)         (None, 128)               0         \n",
            "                                                                 \n",
            " predictions (Dense)         (None, 1)                 129       \n",
            "                                                                 \n",
            "=================================================================\n",
            "Total params: 6,679,809\n",
            "Trainable params: 6,679,809\n",
            "Non-trainable params: 0\n",
            "_________________________________________________________________\n"
          ]
        }
      ],
      "source": [
        "model1.summary()"
      ]
    },
    {
      "cell_type": "code",
      "execution_count": 20,
      "id": "sAfkfPu91Xwn",
      "metadata": {
        "colab": {
          "base_uri": "https://localhost:8080/"
        },
        "id": "sAfkfPu91Xwn",
        "outputId": "cd8f287f-76cc-49c4-eab7-3d0d2f7dbe6e"
      },
      "outputs": [
        {
          "name": "stdout",
          "output_type": "stream",
          "text": [
            "Epoch 1/30\n",
            "156/156 [==============================] - ETA: 0s - loss: 11.6568 - MSE: 11.6568"
          ]
        },
        {
          "name": "stderr",
          "output_type": "stream",
          "text": [
            "WARNING:absl:Found untraced functions such as lstm_cell_1_layer_call_fn, lstm_cell_1_layer_call_and_return_conditional_losses, lstm_cell_2_layer_call_fn, lstm_cell_2_layer_call_and_return_conditional_losses, lstm_cell_4_layer_call_fn while saving (showing 5 of 8). These functions will not be directly callable after loading.\n"
          ]
        },
        {
          "name": "stdout",
          "output_type": "stream",
          "text": [
            "INFO:tensorflow:Assets written to: export_model1/assets\n"
          ]
        },
        {
          "name": "stderr",
          "output_type": "stream",
          "text": [
            "INFO:tensorflow:Assets written to: export_model1/assets\n",
            "WARNING:absl:<keras.layers.recurrent.LSTMCell object at 0x7fc92210d390> has the same name 'LSTMCell' as a built-in Keras object. Consider renaming <class 'keras.layers.recurrent.LSTMCell'> to avoid naming conflicts when loading with `tf.keras.models.load_model`. If renaming is not possible, pass the object in the `custom_objects` parameter of the load function.\n",
            "WARNING:absl:<keras.layers.recurrent.LSTMCell object at 0x7fc92210bd90> has the same name 'LSTMCell' as a built-in Keras object. Consider renaming <class 'keras.layers.recurrent.LSTMCell'> to avoid naming conflicts when loading with `tf.keras.models.load_model`. If renaming is not possible, pass the object in the `custom_objects` parameter of the load function.\n",
            "WARNING:absl:<keras.layers.recurrent.LSTMCell object at 0x7fc92068e350> has the same name 'LSTMCell' as a built-in Keras object. Consider renaming <class 'keras.layers.recurrent.LSTMCell'> to avoid naming conflicts when loading with `tf.keras.models.load_model`. If renaming is not possible, pass the object in the `custom_objects` parameter of the load function.\n",
            "WARNING:absl:<keras.layers.recurrent.LSTMCell object at 0x7fc92068ef10> has the same name 'LSTMCell' as a built-in Keras object. Consider renaming <class 'keras.layers.recurrent.LSTMCell'> to avoid naming conflicts when loading with `tf.keras.models.load_model`. If renaming is not possible, pass the object in the `custom_objects` parameter of the load function.\n"
          ]
        },
        {
          "name": "stdout",
          "output_type": "stream",
          "text": [
            "\b\b\b\b\b\b\b\b\b\b\b\b\b\b\b\b\b\b\b\b\b\b\b\b\b\b\b\b\b\b\b\b\b\b\b\b\b\b\b\b\b\b\b\b\b\b\b\b\b\b\b\b\b\b\b\b\b\b\b\b\b\b\b\b\b\b\b\b\b\b\b\b\b\b\b\b\b\b\b\b\b\r156/156 [==============================] - 142s 842ms/step - loss: 11.6568 - MSE: 11.6568 - val_loss: 4.6470 - val_MSE: 4.6470\n",
            "Epoch 2/30\n",
            "156/156 [==============================] - ETA: 0s - loss: 5.3928 - MSE: 5.3928"
          ]
        },
        {
          "name": "stderr",
          "output_type": "stream",
          "text": [
            "WARNING:absl:Found untraced functions such as lstm_cell_1_layer_call_fn, lstm_cell_1_layer_call_and_return_conditional_losses, lstm_cell_2_layer_call_fn, lstm_cell_2_layer_call_and_return_conditional_losses, lstm_cell_4_layer_call_fn while saving (showing 5 of 8). These functions will not be directly callable after loading.\n"
          ]
        },
        {
          "name": "stdout",
          "output_type": "stream",
          "text": [
            "INFO:tensorflow:Assets written to: export_model1/assets\n"
          ]
        },
        {
          "name": "stderr",
          "output_type": "stream",
          "text": [
            "INFO:tensorflow:Assets written to: export_model1/assets\n",
            "WARNING:absl:<keras.layers.recurrent.LSTMCell object at 0x7fc92210d390> has the same name 'LSTMCell' as a built-in Keras object. Consider renaming <class 'keras.layers.recurrent.LSTMCell'> to avoid naming conflicts when loading with `tf.keras.models.load_model`. If renaming is not possible, pass the object in the `custom_objects` parameter of the load function.\n",
            "WARNING:absl:<keras.layers.recurrent.LSTMCell object at 0x7fc92210bd90> has the same name 'LSTMCell' as a built-in Keras object. Consider renaming <class 'keras.layers.recurrent.LSTMCell'> to avoid naming conflicts when loading with `tf.keras.models.load_model`. If renaming is not possible, pass the object in the `custom_objects` parameter of the load function.\n",
            "WARNING:absl:<keras.layers.recurrent.LSTMCell object at 0x7fc92068e350> has the same name 'LSTMCell' as a built-in Keras object. Consider renaming <class 'keras.layers.recurrent.LSTMCell'> to avoid naming conflicts when loading with `tf.keras.models.load_model`. If renaming is not possible, pass the object in the `custom_objects` parameter of the load function.\n",
            "WARNING:absl:<keras.layers.recurrent.LSTMCell object at 0x7fc92068ef10> has the same name 'LSTMCell' as a built-in Keras object. Consider renaming <class 'keras.layers.recurrent.LSTMCell'> to avoid naming conflicts when loading with `tf.keras.models.load_model`. If renaming is not possible, pass the object in the `custom_objects` parameter of the load function.\n"
          ]
        },
        {
          "name": "stdout",
          "output_type": "stream",
          "text": [
            "\b\b\b\b\b\b\b\b\b\b\b\b\b\b\b\b\b\b\b\b\b\b\b\b\b\b\b\b\b\b\b\b\b\b\b\b\b\b\b\b\b\b\b\b\b\b\b\b\b\b\b\b\b\b\b\b\b\b\b\b\b\b\b\b\b\b\b\b\b\b\b\b\b\b\b\b\b\b\b\r156/156 [==============================] - 128s 818ms/step - loss: 5.3928 - MSE: 5.3928 - val_loss: 3.1217 - val_MSE: 3.1217\n",
            "Epoch 3/30\n",
            "156/156 [==============================] - ETA: 0s - loss: 4.2522 - MSE: 4.2522"
          ]
        },
        {
          "name": "stderr",
          "output_type": "stream",
          "text": [
            "WARNING:absl:Found untraced functions such as lstm_cell_1_layer_call_fn, lstm_cell_1_layer_call_and_return_conditional_losses, lstm_cell_2_layer_call_fn, lstm_cell_2_layer_call_and_return_conditional_losses, lstm_cell_4_layer_call_fn while saving (showing 5 of 8). These functions will not be directly callable after loading.\n"
          ]
        },
        {
          "name": "stdout",
          "output_type": "stream",
          "text": [
            "INFO:tensorflow:Assets written to: export_model1/assets\n"
          ]
        },
        {
          "name": "stderr",
          "output_type": "stream",
          "text": [
            "INFO:tensorflow:Assets written to: export_model1/assets\n",
            "WARNING:absl:<keras.layers.recurrent.LSTMCell object at 0x7fc92210d390> has the same name 'LSTMCell' as a built-in Keras object. Consider renaming <class 'keras.layers.recurrent.LSTMCell'> to avoid naming conflicts when loading with `tf.keras.models.load_model`. If renaming is not possible, pass the object in the `custom_objects` parameter of the load function.\n",
            "WARNING:absl:<keras.layers.recurrent.LSTMCell object at 0x7fc92210bd90> has the same name 'LSTMCell' as a built-in Keras object. Consider renaming <class 'keras.layers.recurrent.LSTMCell'> to avoid naming conflicts when loading with `tf.keras.models.load_model`. If renaming is not possible, pass the object in the `custom_objects` parameter of the load function.\n",
            "WARNING:absl:<keras.layers.recurrent.LSTMCell object at 0x7fc92068e350> has the same name 'LSTMCell' as a built-in Keras object. Consider renaming <class 'keras.layers.recurrent.LSTMCell'> to avoid naming conflicts when loading with `tf.keras.models.load_model`. If renaming is not possible, pass the object in the `custom_objects` parameter of the load function.\n",
            "WARNING:absl:<keras.layers.recurrent.LSTMCell object at 0x7fc92068ef10> has the same name 'LSTMCell' as a built-in Keras object. Consider renaming <class 'keras.layers.recurrent.LSTMCell'> to avoid naming conflicts when loading with `tf.keras.models.load_model`. If renaming is not possible, pass the object in the `custom_objects` parameter of the load function.\n"
          ]
        },
        {
          "name": "stdout",
          "output_type": "stream",
          "text": [
            "\b\b\b\b\b\b\b\b\b\b\b\b\b\b\b\b\b\b\b\b\b\b\b\b\b\b\b\b\b\b\b\b\b\b\b\b\b\b\b\b\b\b\b\b\b\b\b\b\b\b\b\b\b\b\b\b\b\b\b\b\b\b\b\b\b\b\b\b\b\b\b\b\b\b\b\b\b\b\b\r156/156 [==============================] - 127s 816ms/step - loss: 4.2522 - MSE: 4.2522 - val_loss: 2.3326 - val_MSE: 2.3326\n",
            "Epoch 4/30\n",
            "156/156 [==============================] - ETA: 0s - loss: 3.3844 - MSE: 3.3844"
          ]
        },
        {
          "name": "stderr",
          "output_type": "stream",
          "text": [
            "WARNING:absl:Found untraced functions such as lstm_cell_1_layer_call_fn, lstm_cell_1_layer_call_and_return_conditional_losses, lstm_cell_2_layer_call_fn, lstm_cell_2_layer_call_and_return_conditional_losses, lstm_cell_4_layer_call_fn while saving (showing 5 of 8). These functions will not be directly callable after loading.\n"
          ]
        },
        {
          "name": "stdout",
          "output_type": "stream",
          "text": [
            "INFO:tensorflow:Assets written to: export_model1/assets\n"
          ]
        },
        {
          "name": "stderr",
          "output_type": "stream",
          "text": [
            "INFO:tensorflow:Assets written to: export_model1/assets\n",
            "WARNING:absl:<keras.layers.recurrent.LSTMCell object at 0x7fc92210d390> has the same name 'LSTMCell' as a built-in Keras object. Consider renaming <class 'keras.layers.recurrent.LSTMCell'> to avoid naming conflicts when loading with `tf.keras.models.load_model`. If renaming is not possible, pass the object in the `custom_objects` parameter of the load function.\n",
            "WARNING:absl:<keras.layers.recurrent.LSTMCell object at 0x7fc92210bd90> has the same name 'LSTMCell' as a built-in Keras object. Consider renaming <class 'keras.layers.recurrent.LSTMCell'> to avoid naming conflicts when loading with `tf.keras.models.load_model`. If renaming is not possible, pass the object in the `custom_objects` parameter of the load function.\n",
            "WARNING:absl:<keras.layers.recurrent.LSTMCell object at 0x7fc92068e350> has the same name 'LSTMCell' as a built-in Keras object. Consider renaming <class 'keras.layers.recurrent.LSTMCell'> to avoid naming conflicts when loading with `tf.keras.models.load_model`. If renaming is not possible, pass the object in the `custom_objects` parameter of the load function.\n",
            "WARNING:absl:<keras.layers.recurrent.LSTMCell object at 0x7fc92068ef10> has the same name 'LSTMCell' as a built-in Keras object. Consider renaming <class 'keras.layers.recurrent.LSTMCell'> to avoid naming conflicts when loading with `tf.keras.models.load_model`. If renaming is not possible, pass the object in the `custom_objects` parameter of the load function.\n"
          ]
        },
        {
          "name": "stdout",
          "output_type": "stream",
          "text": [
            "\b\b\b\b\b\b\b\b\b\b\b\b\b\b\b\b\b\b\b\b\b\b\b\b\b\b\b\b\b\b\b\b\b\b\b\b\b\b\b\b\b\b\b\b\b\b\b\b\b\b\b\b\b\b\b\b\b\b\b\b\b\b\b\b\b\b\b\b\b\b\b\b\b\b\b\b\b\b\b\r156/156 [==============================] - 127s 816ms/step - loss: 3.3844 - MSE: 3.3844 - val_loss: 1.8492 - val_MSE: 1.8492\n",
            "Epoch 5/30\n",
            "156/156 [==============================] - ETA: 0s - loss: 2.9220 - MSE: 2.9220"
          ]
        },
        {
          "name": "stderr",
          "output_type": "stream",
          "text": [
            "WARNING:absl:Found untraced functions such as lstm_cell_1_layer_call_fn, lstm_cell_1_layer_call_and_return_conditional_losses, lstm_cell_2_layer_call_fn, lstm_cell_2_layer_call_and_return_conditional_losses, lstm_cell_4_layer_call_fn while saving (showing 5 of 8). These functions will not be directly callable after loading.\n"
          ]
        },
        {
          "name": "stdout",
          "output_type": "stream",
          "text": [
            "INFO:tensorflow:Assets written to: export_model1/assets\n"
          ]
        },
        {
          "name": "stderr",
          "output_type": "stream",
          "text": [
            "INFO:tensorflow:Assets written to: export_model1/assets\n",
            "WARNING:absl:<keras.layers.recurrent.LSTMCell object at 0x7fc92210d390> has the same name 'LSTMCell' as a built-in Keras object. Consider renaming <class 'keras.layers.recurrent.LSTMCell'> to avoid naming conflicts when loading with `tf.keras.models.load_model`. If renaming is not possible, pass the object in the `custom_objects` parameter of the load function.\n",
            "WARNING:absl:<keras.layers.recurrent.LSTMCell object at 0x7fc92210bd90> has the same name 'LSTMCell' as a built-in Keras object. Consider renaming <class 'keras.layers.recurrent.LSTMCell'> to avoid naming conflicts when loading with `tf.keras.models.load_model`. If renaming is not possible, pass the object in the `custom_objects` parameter of the load function.\n",
            "WARNING:absl:<keras.layers.recurrent.LSTMCell object at 0x7fc92068e350> has the same name 'LSTMCell' as a built-in Keras object. Consider renaming <class 'keras.layers.recurrent.LSTMCell'> to avoid naming conflicts when loading with `tf.keras.models.load_model`. If renaming is not possible, pass the object in the `custom_objects` parameter of the load function.\n",
            "WARNING:absl:<keras.layers.recurrent.LSTMCell object at 0x7fc92068ef10> has the same name 'LSTMCell' as a built-in Keras object. Consider renaming <class 'keras.layers.recurrent.LSTMCell'> to avoid naming conflicts when loading with `tf.keras.models.load_model`. If renaming is not possible, pass the object in the `custom_objects` parameter of the load function.\n"
          ]
        },
        {
          "name": "stdout",
          "output_type": "stream",
          "text": [
            "\b\b\b\b\b\b\b\b\b\b\b\b\b\b\b\b\b\b\b\b\b\b\b\b\b\b\b\b\b\b\b\b\b\b\b\b\b\b\b\b\b\b\b\b\b\b\b\b\b\b\b\b\b\b\b\b\b\b\b\b\b\b\b\b\b\b\b\b\b\b\b\b\b\b\b\b\b\b\b\r156/156 [==============================] - 127s 816ms/step - loss: 2.9220 - MSE: 2.9220 - val_loss: 1.6485 - val_MSE: 1.6485\n",
            "Epoch 6/30\n",
            "156/156 [==============================] - ETA: 0s - loss: 2.6537 - MSE: 2.6537"
          ]
        },
        {
          "name": "stderr",
          "output_type": "stream",
          "text": [
            "WARNING:absl:Found untraced functions such as lstm_cell_1_layer_call_fn, lstm_cell_1_layer_call_and_return_conditional_losses, lstm_cell_2_layer_call_fn, lstm_cell_2_layer_call_and_return_conditional_losses, lstm_cell_4_layer_call_fn while saving (showing 5 of 8). These functions will not be directly callable after loading.\n"
          ]
        },
        {
          "name": "stdout",
          "output_type": "stream",
          "text": [
            "INFO:tensorflow:Assets written to: export_model1/assets\n"
          ]
        },
        {
          "name": "stderr",
          "output_type": "stream",
          "text": [
            "INFO:tensorflow:Assets written to: export_model1/assets\n",
            "WARNING:absl:<keras.layers.recurrent.LSTMCell object at 0x7fc92210d390> has the same name 'LSTMCell' as a built-in Keras object. Consider renaming <class 'keras.layers.recurrent.LSTMCell'> to avoid naming conflicts when loading with `tf.keras.models.load_model`. If renaming is not possible, pass the object in the `custom_objects` parameter of the load function.\n",
            "WARNING:absl:<keras.layers.recurrent.LSTMCell object at 0x7fc92210bd90> has the same name 'LSTMCell' as a built-in Keras object. Consider renaming <class 'keras.layers.recurrent.LSTMCell'> to avoid naming conflicts when loading with `tf.keras.models.load_model`. If renaming is not possible, pass the object in the `custom_objects` parameter of the load function.\n",
            "WARNING:absl:<keras.layers.recurrent.LSTMCell object at 0x7fc92068e350> has the same name 'LSTMCell' as a built-in Keras object. Consider renaming <class 'keras.layers.recurrent.LSTMCell'> to avoid naming conflicts when loading with `tf.keras.models.load_model`. If renaming is not possible, pass the object in the `custom_objects` parameter of the load function.\n",
            "WARNING:absl:<keras.layers.recurrent.LSTMCell object at 0x7fc92068ef10> has the same name 'LSTMCell' as a built-in Keras object. Consider renaming <class 'keras.layers.recurrent.LSTMCell'> to avoid naming conflicts when loading with `tf.keras.models.load_model`. If renaming is not possible, pass the object in the `custom_objects` parameter of the load function.\n"
          ]
        },
        {
          "name": "stdout",
          "output_type": "stream",
          "text": [
            "\b\b\b\b\b\b\b\b\b\b\b\b\b\b\b\b\b\b\b\b\b\b\b\b\b\b\b\b\b\b\b\b\b\b\b\b\b\b\b\b\b\b\b\b\b\b\b\b\b\b\b\b\b\b\b\b\b\b\b\b\b\b\b\b\b\b\b\b\b\b\b\b\b\b\b\b\b\b\b\r156/156 [==============================] - 128s 819ms/step - loss: 2.6537 - MSE: 2.6537 - val_loss: 1.4913 - val_MSE: 1.4913\n",
            "Epoch 7/30\n",
            "156/156 [==============================] - ETA: 0s - loss: 2.4418 - MSE: 2.4418"
          ]
        },
        {
          "name": "stderr",
          "output_type": "stream",
          "text": [
            "WARNING:absl:Found untraced functions such as lstm_cell_1_layer_call_fn, lstm_cell_1_layer_call_and_return_conditional_losses, lstm_cell_2_layer_call_fn, lstm_cell_2_layer_call_and_return_conditional_losses, lstm_cell_4_layer_call_fn while saving (showing 5 of 8). These functions will not be directly callable after loading.\n"
          ]
        },
        {
          "name": "stdout",
          "output_type": "stream",
          "text": [
            "INFO:tensorflow:Assets written to: export_model1/assets\n"
          ]
        },
        {
          "name": "stderr",
          "output_type": "stream",
          "text": [
            "INFO:tensorflow:Assets written to: export_model1/assets\n",
            "WARNING:absl:<keras.layers.recurrent.LSTMCell object at 0x7fc92210d390> has the same name 'LSTMCell' as a built-in Keras object. Consider renaming <class 'keras.layers.recurrent.LSTMCell'> to avoid naming conflicts when loading with `tf.keras.models.load_model`. If renaming is not possible, pass the object in the `custom_objects` parameter of the load function.\n",
            "WARNING:absl:<keras.layers.recurrent.LSTMCell object at 0x7fc92210bd90> has the same name 'LSTMCell' as a built-in Keras object. Consider renaming <class 'keras.layers.recurrent.LSTMCell'> to avoid naming conflicts when loading with `tf.keras.models.load_model`. If renaming is not possible, pass the object in the `custom_objects` parameter of the load function.\n",
            "WARNING:absl:<keras.layers.recurrent.LSTMCell object at 0x7fc92068e350> has the same name 'LSTMCell' as a built-in Keras object. Consider renaming <class 'keras.layers.recurrent.LSTMCell'> to avoid naming conflicts when loading with `tf.keras.models.load_model`. If renaming is not possible, pass the object in the `custom_objects` parameter of the load function.\n",
            "WARNING:absl:<keras.layers.recurrent.LSTMCell object at 0x7fc92068ef10> has the same name 'LSTMCell' as a built-in Keras object. Consider renaming <class 'keras.layers.recurrent.LSTMCell'> to avoid naming conflicts when loading with `tf.keras.models.load_model`. If renaming is not possible, pass the object in the `custom_objects` parameter of the load function.\n"
          ]
        },
        {
          "name": "stdout",
          "output_type": "stream",
          "text": [
            "\b\b\b\b\b\b\b\b\b\b\b\b\b\b\b\b\b\b\b\b\b\b\b\b\b\b\b\b\b\b\b\b\b\b\b\b\b\b\b\b\b\b\b\b\b\b\b\b\b\b\b\b\b\b\b\b\b\b\b\b\b\b\b\b\b\b\b\b\b\b\b\b\b\b\b\b\b\b\b\r156/156 [==============================] - 127s 816ms/step - loss: 2.4418 - MSE: 2.4418 - val_loss: 1.2236 - val_MSE: 1.2236\n",
            "Epoch 8/30\n",
            "156/156 [==============================] - ETA: 0s - loss: 2.2010 - MSE: 2.2010"
          ]
        },
        {
          "name": "stderr",
          "output_type": "stream",
          "text": [
            "WARNING:absl:Found untraced functions such as lstm_cell_1_layer_call_fn, lstm_cell_1_layer_call_and_return_conditional_losses, lstm_cell_2_layer_call_fn, lstm_cell_2_layer_call_and_return_conditional_losses, lstm_cell_4_layer_call_fn while saving (showing 5 of 8). These functions will not be directly callable after loading.\n"
          ]
        },
        {
          "name": "stdout",
          "output_type": "stream",
          "text": [
            "INFO:tensorflow:Assets written to: export_model1/assets\n"
          ]
        },
        {
          "name": "stderr",
          "output_type": "stream",
          "text": [
            "INFO:tensorflow:Assets written to: export_model1/assets\n",
            "WARNING:absl:<keras.layers.recurrent.LSTMCell object at 0x7fc92210d390> has the same name 'LSTMCell' as a built-in Keras object. Consider renaming <class 'keras.layers.recurrent.LSTMCell'> to avoid naming conflicts when loading with `tf.keras.models.load_model`. If renaming is not possible, pass the object in the `custom_objects` parameter of the load function.\n",
            "WARNING:absl:<keras.layers.recurrent.LSTMCell object at 0x7fc92210bd90> has the same name 'LSTMCell' as a built-in Keras object. Consider renaming <class 'keras.layers.recurrent.LSTMCell'> to avoid naming conflicts when loading with `tf.keras.models.load_model`. If renaming is not possible, pass the object in the `custom_objects` parameter of the load function.\n",
            "WARNING:absl:<keras.layers.recurrent.LSTMCell object at 0x7fc92068e350> has the same name 'LSTMCell' as a built-in Keras object. Consider renaming <class 'keras.layers.recurrent.LSTMCell'> to avoid naming conflicts when loading with `tf.keras.models.load_model`. If renaming is not possible, pass the object in the `custom_objects` parameter of the load function.\n",
            "WARNING:absl:<keras.layers.recurrent.LSTMCell object at 0x7fc92068ef10> has the same name 'LSTMCell' as a built-in Keras object. Consider renaming <class 'keras.layers.recurrent.LSTMCell'> to avoid naming conflicts when loading with `tf.keras.models.load_model`. If renaming is not possible, pass the object in the `custom_objects` parameter of the load function.\n"
          ]
        },
        {
          "name": "stdout",
          "output_type": "stream",
          "text": [
            "\b\b\b\b\b\b\b\b\b\b\b\b\b\b\b\b\b\b\b\b\b\b\b\b\b\b\b\b\b\b\b\b\b\b\b\b\b\b\b\b\b\b\b\b\b\b\b\b\b\b\b\b\b\b\b\b\b\b\b\b\b\b\b\b\b\b\b\b\b\b\b\b\b\b\b\b\b\b\b\r156/156 [==============================] - 128s 822ms/step - loss: 2.2010 - MSE: 2.2010 - val_loss: 1.1473 - val_MSE: 1.1473\n",
            "Epoch 9/30\n",
            "156/156 [==============================] - ETA: 0s - loss: 1.9622 - MSE: 1.9622"
          ]
        },
        {
          "name": "stderr",
          "output_type": "stream",
          "text": [
            "WARNING:absl:Found untraced functions such as lstm_cell_1_layer_call_fn, lstm_cell_1_layer_call_and_return_conditional_losses, lstm_cell_2_layer_call_fn, lstm_cell_2_layer_call_and_return_conditional_losses, lstm_cell_4_layer_call_fn while saving (showing 5 of 8). These functions will not be directly callable after loading.\n"
          ]
        },
        {
          "name": "stdout",
          "output_type": "stream",
          "text": [
            "INFO:tensorflow:Assets written to: export_model1/assets\n"
          ]
        },
        {
          "name": "stderr",
          "output_type": "stream",
          "text": [
            "INFO:tensorflow:Assets written to: export_model1/assets\n",
            "WARNING:absl:<keras.layers.recurrent.LSTMCell object at 0x7fc92210d390> has the same name 'LSTMCell' as a built-in Keras object. Consider renaming <class 'keras.layers.recurrent.LSTMCell'> to avoid naming conflicts when loading with `tf.keras.models.load_model`. If renaming is not possible, pass the object in the `custom_objects` parameter of the load function.\n",
            "WARNING:absl:<keras.layers.recurrent.LSTMCell object at 0x7fc92210bd90> has the same name 'LSTMCell' as a built-in Keras object. Consider renaming <class 'keras.layers.recurrent.LSTMCell'> to avoid naming conflicts when loading with `tf.keras.models.load_model`. If renaming is not possible, pass the object in the `custom_objects` parameter of the load function.\n",
            "WARNING:absl:<keras.layers.recurrent.LSTMCell object at 0x7fc92068e350> has the same name 'LSTMCell' as a built-in Keras object. Consider renaming <class 'keras.layers.recurrent.LSTMCell'> to avoid naming conflicts when loading with `tf.keras.models.load_model`. If renaming is not possible, pass the object in the `custom_objects` parameter of the load function.\n",
            "WARNING:absl:<keras.layers.recurrent.LSTMCell object at 0x7fc92068ef10> has the same name 'LSTMCell' as a built-in Keras object. Consider renaming <class 'keras.layers.recurrent.LSTMCell'> to avoid naming conflicts when loading with `tf.keras.models.load_model`. If renaming is not possible, pass the object in the `custom_objects` parameter of the load function.\n"
          ]
        },
        {
          "name": "stdout",
          "output_type": "stream",
          "text": [
            "\b\b\b\b\b\b\b\b\b\b\b\b\b\b\b\b\b\b\b\b\b\b\b\b\b\b\b\b\b\b\b\b\b\b\b\b\b\b\b\b\b\b\b\b\b\b\b\b\b\b\b\b\b\b\b\b\b\b\b\b\b\b\b\b\b\b\b\b\b\b\b\b\b\b\b\b\b\b\b\r156/156 [==============================] - 127s 813ms/step - loss: 1.9622 - MSE: 1.9622 - val_loss: 0.9460 - val_MSE: 0.9460\n",
            "Epoch 10/30\n",
            "156/156 [==============================] - ETA: 0s - loss: 1.8857 - MSE: 1.8857"
          ]
        },
        {
          "name": "stderr",
          "output_type": "stream",
          "text": [
            "WARNING:absl:Found untraced functions such as lstm_cell_1_layer_call_fn, lstm_cell_1_layer_call_and_return_conditional_losses, lstm_cell_2_layer_call_fn, lstm_cell_2_layer_call_and_return_conditional_losses, lstm_cell_4_layer_call_fn while saving (showing 5 of 8). These functions will not be directly callable after loading.\n"
          ]
        },
        {
          "name": "stdout",
          "output_type": "stream",
          "text": [
            "INFO:tensorflow:Assets written to: export_model1/assets\n"
          ]
        },
        {
          "name": "stderr",
          "output_type": "stream",
          "text": [
            "INFO:tensorflow:Assets written to: export_model1/assets\n",
            "WARNING:absl:<keras.layers.recurrent.LSTMCell object at 0x7fc92210d390> has the same name 'LSTMCell' as a built-in Keras object. Consider renaming <class 'keras.layers.recurrent.LSTMCell'> to avoid naming conflicts when loading with `tf.keras.models.load_model`. If renaming is not possible, pass the object in the `custom_objects` parameter of the load function.\n",
            "WARNING:absl:<keras.layers.recurrent.LSTMCell object at 0x7fc92210bd90> has the same name 'LSTMCell' as a built-in Keras object. Consider renaming <class 'keras.layers.recurrent.LSTMCell'> to avoid naming conflicts when loading with `tf.keras.models.load_model`. If renaming is not possible, pass the object in the `custom_objects` parameter of the load function.\n",
            "WARNING:absl:<keras.layers.recurrent.LSTMCell object at 0x7fc92068e350> has the same name 'LSTMCell' as a built-in Keras object. Consider renaming <class 'keras.layers.recurrent.LSTMCell'> to avoid naming conflicts when loading with `tf.keras.models.load_model`. If renaming is not possible, pass the object in the `custom_objects` parameter of the load function.\n",
            "WARNING:absl:<keras.layers.recurrent.LSTMCell object at 0x7fc92068ef10> has the same name 'LSTMCell' as a built-in Keras object. Consider renaming <class 'keras.layers.recurrent.LSTMCell'> to avoid naming conflicts when loading with `tf.keras.models.load_model`. If renaming is not possible, pass the object in the `custom_objects` parameter of the load function.\n"
          ]
        },
        {
          "name": "stdout",
          "output_type": "stream",
          "text": [
            "\b\b\b\b\b\b\b\b\b\b\b\b\b\b\b\b\b\b\b\b\b\b\b\b\b\b\b\b\b\b\b\b\b\b\b\b\b\b\b\b\b\b\b\b\b\b\b\b\b\b\b\b\b\b\b\b\b\b\b\b\b\b\b\b\b\b\b\b\b\b\b\b\b\b\b\b\b\b\b\r156/156 [==============================] - 128s 820ms/step - loss: 1.8857 - MSE: 1.8857 - val_loss: 0.8763 - val_MSE: 0.8763\n",
            "Epoch 11/30\n",
            "156/156 [==============================] - 100s 638ms/step - loss: 1.7891 - MSE: 1.7891 - val_loss: 1.1800 - val_MSE: 1.1800\n",
            "Epoch 12/30\n",
            "156/156 [==============================] - 99s 634ms/step - loss: 1.6406 - MSE: 1.6406 - val_loss: 1.0712 - val_MSE: 1.0712\n",
            "Epoch 13/30\n",
            "156/156 [==============================] - ETA: 0s - loss: 1.6635 - MSE: 1.6635"
          ]
        },
        {
          "name": "stderr",
          "output_type": "stream",
          "text": [
            "WARNING:absl:Found untraced functions such as lstm_cell_1_layer_call_fn, lstm_cell_1_layer_call_and_return_conditional_losses, lstm_cell_2_layer_call_fn, lstm_cell_2_layer_call_and_return_conditional_losses, lstm_cell_4_layer_call_fn while saving (showing 5 of 8). These functions will not be directly callable after loading.\n"
          ]
        },
        {
          "name": "stdout",
          "output_type": "stream",
          "text": [
            "INFO:tensorflow:Assets written to: export_model1/assets\n"
          ]
        },
        {
          "name": "stderr",
          "output_type": "stream",
          "text": [
            "INFO:tensorflow:Assets written to: export_model1/assets\n",
            "WARNING:absl:<keras.layers.recurrent.LSTMCell object at 0x7fc92210d390> has the same name 'LSTMCell' as a built-in Keras object. Consider renaming <class 'keras.layers.recurrent.LSTMCell'> to avoid naming conflicts when loading with `tf.keras.models.load_model`. If renaming is not possible, pass the object in the `custom_objects` parameter of the load function.\n",
            "WARNING:absl:<keras.layers.recurrent.LSTMCell object at 0x7fc92210bd90> has the same name 'LSTMCell' as a built-in Keras object. Consider renaming <class 'keras.layers.recurrent.LSTMCell'> to avoid naming conflicts when loading with `tf.keras.models.load_model`. If renaming is not possible, pass the object in the `custom_objects` parameter of the load function.\n",
            "WARNING:absl:<keras.layers.recurrent.LSTMCell object at 0x7fc92068e350> has the same name 'LSTMCell' as a built-in Keras object. Consider renaming <class 'keras.layers.recurrent.LSTMCell'> to avoid naming conflicts when loading with `tf.keras.models.load_model`. If renaming is not possible, pass the object in the `custom_objects` parameter of the load function.\n",
            "WARNING:absl:<keras.layers.recurrent.LSTMCell object at 0x7fc92068ef10> has the same name 'LSTMCell' as a built-in Keras object. Consider renaming <class 'keras.layers.recurrent.LSTMCell'> to avoid naming conflicts when loading with `tf.keras.models.load_model`. If renaming is not possible, pass the object in the `custom_objects` parameter of the load function.\n"
          ]
        },
        {
          "name": "stdout",
          "output_type": "stream",
          "text": [
            "\b\b\b\b\b\b\b\b\b\b\b\b\b\b\b\b\b\b\b\b\b\b\b\b\b\b\b\b\b\b\b\b\b\b\b\b\b\b\b\b\b\b\b\b\b\b\b\b\b\b\b\b\b\b\b\b\b\b\b\b\b\b\b\b\b\b\b\b\b\b\b\b\b\b\b\b\b\b\b\r156/156 [==============================] - 127s 817ms/step - loss: 1.6635 - MSE: 1.6635 - val_loss: 0.6921 - val_MSE: 0.6921\n",
            "Epoch 14/30\n",
            "156/156 [==============================] - 99s 635ms/step - loss: 1.5941 - MSE: 1.5941 - val_loss: 0.7130 - val_MSE: 0.7130\n",
            "Epoch 15/30\n",
            "156/156 [==============================] - 99s 634ms/step - loss: 1.9221 - MSE: 1.9221 - val_loss: 0.8564 - val_MSE: 0.8564\n",
            "Epoch 16/30\n",
            "156/156 [==============================] - 99s 635ms/step - loss: 1.6067 - MSE: 1.6067 - val_loss: 0.7923 - val_MSE: 0.7923\n",
            "Epoch 17/30\n",
            "156/156 [==============================] - ETA: 0s - loss: 1.5437 - MSE: 1.5437"
          ]
        },
        {
          "name": "stderr",
          "output_type": "stream",
          "text": [
            "WARNING:absl:Found untraced functions such as lstm_cell_1_layer_call_fn, lstm_cell_1_layer_call_and_return_conditional_losses, lstm_cell_2_layer_call_fn, lstm_cell_2_layer_call_and_return_conditional_losses, lstm_cell_4_layer_call_fn while saving (showing 5 of 8). These functions will not be directly callable after loading.\n"
          ]
        },
        {
          "name": "stdout",
          "output_type": "stream",
          "text": [
            "INFO:tensorflow:Assets written to: export_model1/assets\n"
          ]
        },
        {
          "name": "stderr",
          "output_type": "stream",
          "text": [
            "INFO:tensorflow:Assets written to: export_model1/assets\n",
            "WARNING:absl:<keras.layers.recurrent.LSTMCell object at 0x7fc92210d390> has the same name 'LSTMCell' as a built-in Keras object. Consider renaming <class 'keras.layers.recurrent.LSTMCell'> to avoid naming conflicts when loading with `tf.keras.models.load_model`. If renaming is not possible, pass the object in the `custom_objects` parameter of the load function.\n",
            "WARNING:absl:<keras.layers.recurrent.LSTMCell object at 0x7fc92210bd90> has the same name 'LSTMCell' as a built-in Keras object. Consider renaming <class 'keras.layers.recurrent.LSTMCell'> to avoid naming conflicts when loading with `tf.keras.models.load_model`. If renaming is not possible, pass the object in the `custom_objects` parameter of the load function.\n",
            "WARNING:absl:<keras.layers.recurrent.LSTMCell object at 0x7fc92068e350> has the same name 'LSTMCell' as a built-in Keras object. Consider renaming <class 'keras.layers.recurrent.LSTMCell'> to avoid naming conflicts when loading with `tf.keras.models.load_model`. If renaming is not possible, pass the object in the `custom_objects` parameter of the load function.\n",
            "WARNING:absl:<keras.layers.recurrent.LSTMCell object at 0x7fc92068ef10> has the same name 'LSTMCell' as a built-in Keras object. Consider renaming <class 'keras.layers.recurrent.LSTMCell'> to avoid naming conflicts when loading with `tf.keras.models.load_model`. If renaming is not possible, pass the object in the `custom_objects` parameter of the load function.\n"
          ]
        },
        {
          "name": "stdout",
          "output_type": "stream",
          "text": [
            "\b\b\b\b\b\b\b\b\b\b\b\b\b\b\b\b\b\b\b\b\b\b\b\b\b\b\b\b\b\b\b\b\b\b\b\b\b\b\b\b\b\b\b\b\b\b\b\b\b\b\b\b\b\b\b\b\b\b\b\b\b\b\b\b\b\b\b\b\b\b\b\b\b\b\b\b\b\b\b\r156/156 [==============================] - 128s 822ms/step - loss: 1.5437 - MSE: 1.5437 - val_loss: 0.6755 - val_MSE: 0.6755\n",
            "Epoch 18/30\n",
            "156/156 [==============================] - ETA: 0s - loss: 1.4283 - MSE: 1.4283"
          ]
        },
        {
          "name": "stderr",
          "output_type": "stream",
          "text": [
            "WARNING:absl:Found untraced functions such as lstm_cell_1_layer_call_fn, lstm_cell_1_layer_call_and_return_conditional_losses, lstm_cell_2_layer_call_fn, lstm_cell_2_layer_call_and_return_conditional_losses, lstm_cell_4_layer_call_fn while saving (showing 5 of 8). These functions will not be directly callable after loading.\n"
          ]
        },
        {
          "name": "stdout",
          "output_type": "stream",
          "text": [
            "INFO:tensorflow:Assets written to: export_model1/assets\n"
          ]
        },
        {
          "name": "stderr",
          "output_type": "stream",
          "text": [
            "INFO:tensorflow:Assets written to: export_model1/assets\n",
            "WARNING:absl:<keras.layers.recurrent.LSTMCell object at 0x7fc92210d390> has the same name 'LSTMCell' as a built-in Keras object. Consider renaming <class 'keras.layers.recurrent.LSTMCell'> to avoid naming conflicts when loading with `tf.keras.models.load_model`. If renaming is not possible, pass the object in the `custom_objects` parameter of the load function.\n",
            "WARNING:absl:<keras.layers.recurrent.LSTMCell object at 0x7fc92210bd90> has the same name 'LSTMCell' as a built-in Keras object. Consider renaming <class 'keras.layers.recurrent.LSTMCell'> to avoid naming conflicts when loading with `tf.keras.models.load_model`. If renaming is not possible, pass the object in the `custom_objects` parameter of the load function.\n",
            "WARNING:absl:<keras.layers.recurrent.LSTMCell object at 0x7fc92068e350> has the same name 'LSTMCell' as a built-in Keras object. Consider renaming <class 'keras.layers.recurrent.LSTMCell'> to avoid naming conflicts when loading with `tf.keras.models.load_model`. If renaming is not possible, pass the object in the `custom_objects` parameter of the load function.\n",
            "WARNING:absl:<keras.layers.recurrent.LSTMCell object at 0x7fc92068ef10> has the same name 'LSTMCell' as a built-in Keras object. Consider renaming <class 'keras.layers.recurrent.LSTMCell'> to avoid naming conflicts when loading with `tf.keras.models.load_model`. If renaming is not possible, pass the object in the `custom_objects` parameter of the load function.\n"
          ]
        },
        {
          "name": "stdout",
          "output_type": "stream",
          "text": [
            "\b\b\b\b\b\b\b\b\b\b\b\b\b\b\b\b\b\b\b\b\b\b\b\b\b\b\b\b\b\b\b\b\b\b\b\b\b\b\b\b\b\b\b\b\b\b\b\b\b\b\b\b\b\b\b\b\b\b\b\b\b\b\b\b\b\b\b\b\b\b\b\b\b\b\b\b\b\b\b\r156/156 [==============================] - 128s 818ms/step - loss: 1.4283 - MSE: 1.4283 - val_loss: 0.5968 - val_MSE: 0.5968\n",
            "Epoch 19/30\n",
            "156/156 [==============================] - ETA: 0s - loss: 1.3385 - MSE: 1.3385"
          ]
        },
        {
          "name": "stderr",
          "output_type": "stream",
          "text": [
            "WARNING:absl:Found untraced functions such as lstm_cell_1_layer_call_fn, lstm_cell_1_layer_call_and_return_conditional_losses, lstm_cell_2_layer_call_fn, lstm_cell_2_layer_call_and_return_conditional_losses, lstm_cell_4_layer_call_fn while saving (showing 5 of 8). These functions will not be directly callable after loading.\n"
          ]
        },
        {
          "name": "stdout",
          "output_type": "stream",
          "text": [
            "INFO:tensorflow:Assets written to: export_model1/assets\n"
          ]
        },
        {
          "name": "stderr",
          "output_type": "stream",
          "text": [
            "INFO:tensorflow:Assets written to: export_model1/assets\n",
            "WARNING:absl:<keras.layers.recurrent.LSTMCell object at 0x7fc92210d390> has the same name 'LSTMCell' as a built-in Keras object. Consider renaming <class 'keras.layers.recurrent.LSTMCell'> to avoid naming conflicts when loading with `tf.keras.models.load_model`. If renaming is not possible, pass the object in the `custom_objects` parameter of the load function.\n",
            "WARNING:absl:<keras.layers.recurrent.LSTMCell object at 0x7fc92210bd90> has the same name 'LSTMCell' as a built-in Keras object. Consider renaming <class 'keras.layers.recurrent.LSTMCell'> to avoid naming conflicts when loading with `tf.keras.models.load_model`. If renaming is not possible, pass the object in the `custom_objects` parameter of the load function.\n",
            "WARNING:absl:<keras.layers.recurrent.LSTMCell object at 0x7fc92068e350> has the same name 'LSTMCell' as a built-in Keras object. Consider renaming <class 'keras.layers.recurrent.LSTMCell'> to avoid naming conflicts when loading with `tf.keras.models.load_model`. If renaming is not possible, pass the object in the `custom_objects` parameter of the load function.\n",
            "WARNING:absl:<keras.layers.recurrent.LSTMCell object at 0x7fc92068ef10> has the same name 'LSTMCell' as a built-in Keras object. Consider renaming <class 'keras.layers.recurrent.LSTMCell'> to avoid naming conflicts when loading with `tf.keras.models.load_model`. If renaming is not possible, pass the object in the `custom_objects` parameter of the load function.\n"
          ]
        },
        {
          "name": "stdout",
          "output_type": "stream",
          "text": [
            "\b\b\b\b\b\b\b\b\b\b\b\b\b\b\b\b\b\b\b\b\b\b\b\b\b\b\b\b\b\b\b\b\b\b\b\b\b\b\b\b\b\b\b\b\b\b\b\b\b\b\b\b\b\b\b\b\b\b\b\b\b\b\b\b\b\b\b\b\b\b\b\b\b\b\b\b\b\b\b\r156/156 [==============================] - 128s 821ms/step - loss: 1.3385 - MSE: 1.3385 - val_loss: 0.5093 - val_MSE: 0.5093\n",
            "Epoch 20/30\n",
            "156/156 [==============================] - ETA: 0s - loss: 1.2638 - MSE: 1.2638"
          ]
        },
        {
          "name": "stderr",
          "output_type": "stream",
          "text": [
            "WARNING:absl:Found untraced functions such as lstm_cell_1_layer_call_fn, lstm_cell_1_layer_call_and_return_conditional_losses, lstm_cell_2_layer_call_fn, lstm_cell_2_layer_call_and_return_conditional_losses, lstm_cell_4_layer_call_fn while saving (showing 5 of 8). These functions will not be directly callable after loading.\n"
          ]
        },
        {
          "name": "stdout",
          "output_type": "stream",
          "text": [
            "INFO:tensorflow:Assets written to: export_model1/assets\n"
          ]
        },
        {
          "name": "stderr",
          "output_type": "stream",
          "text": [
            "INFO:tensorflow:Assets written to: export_model1/assets\n",
            "WARNING:absl:<keras.layers.recurrent.LSTMCell object at 0x7fc92210d390> has the same name 'LSTMCell' as a built-in Keras object. Consider renaming <class 'keras.layers.recurrent.LSTMCell'> to avoid naming conflicts when loading with `tf.keras.models.load_model`. If renaming is not possible, pass the object in the `custom_objects` parameter of the load function.\n",
            "WARNING:absl:<keras.layers.recurrent.LSTMCell object at 0x7fc92210bd90> has the same name 'LSTMCell' as a built-in Keras object. Consider renaming <class 'keras.layers.recurrent.LSTMCell'> to avoid naming conflicts when loading with `tf.keras.models.load_model`. If renaming is not possible, pass the object in the `custom_objects` parameter of the load function.\n",
            "WARNING:absl:<keras.layers.recurrent.LSTMCell object at 0x7fc92068e350> has the same name 'LSTMCell' as a built-in Keras object. Consider renaming <class 'keras.layers.recurrent.LSTMCell'> to avoid naming conflicts when loading with `tf.keras.models.load_model`. If renaming is not possible, pass the object in the `custom_objects` parameter of the load function.\n",
            "WARNING:absl:<keras.layers.recurrent.LSTMCell object at 0x7fc92068ef10> has the same name 'LSTMCell' as a built-in Keras object. Consider renaming <class 'keras.layers.recurrent.LSTMCell'> to avoid naming conflicts when loading with `tf.keras.models.load_model`. If renaming is not possible, pass the object in the `custom_objects` parameter of the load function.\n"
          ]
        },
        {
          "name": "stdout",
          "output_type": "stream",
          "text": [
            "\b\b\b\b\b\b\b\b\b\b\b\b\b\b\b\b\b\b\b\b\b\b\b\b\b\b\b\b\b\b\b\b\b\b\b\b\b\b\b\b\b\b\b\b\b\b\b\b\b\b\b\b\b\b\b\b\b\b\b\b\b\b\b\b\b\b\b\b\b\b\b\b\b\b\b\b\b\b\b\r156/156 [==============================] - 127s 815ms/step - loss: 1.2638 - MSE: 1.2638 - val_loss: 0.4730 - val_MSE: 0.4730\n",
            "Epoch 21/30\n",
            "156/156 [==============================] - ETA: 0s - loss: 1.1674 - MSE: 1.1674"
          ]
        },
        {
          "name": "stderr",
          "output_type": "stream",
          "text": [
            "WARNING:absl:Found untraced functions such as lstm_cell_1_layer_call_fn, lstm_cell_1_layer_call_and_return_conditional_losses, lstm_cell_2_layer_call_fn, lstm_cell_2_layer_call_and_return_conditional_losses, lstm_cell_4_layer_call_fn while saving (showing 5 of 8). These functions will not be directly callable after loading.\n"
          ]
        },
        {
          "name": "stdout",
          "output_type": "stream",
          "text": [
            "INFO:tensorflow:Assets written to: export_model1/assets\n"
          ]
        },
        {
          "name": "stderr",
          "output_type": "stream",
          "text": [
            "INFO:tensorflow:Assets written to: export_model1/assets\n",
            "WARNING:absl:<keras.layers.recurrent.LSTMCell object at 0x7fc92210d390> has the same name 'LSTMCell' as a built-in Keras object. Consider renaming <class 'keras.layers.recurrent.LSTMCell'> to avoid naming conflicts when loading with `tf.keras.models.load_model`. If renaming is not possible, pass the object in the `custom_objects` parameter of the load function.\n",
            "WARNING:absl:<keras.layers.recurrent.LSTMCell object at 0x7fc92210bd90> has the same name 'LSTMCell' as a built-in Keras object. Consider renaming <class 'keras.layers.recurrent.LSTMCell'> to avoid naming conflicts when loading with `tf.keras.models.load_model`. If renaming is not possible, pass the object in the `custom_objects` parameter of the load function.\n",
            "WARNING:absl:<keras.layers.recurrent.LSTMCell object at 0x7fc92068e350> has the same name 'LSTMCell' as a built-in Keras object. Consider renaming <class 'keras.layers.recurrent.LSTMCell'> to avoid naming conflicts when loading with `tf.keras.models.load_model`. If renaming is not possible, pass the object in the `custom_objects` parameter of the load function.\n",
            "WARNING:absl:<keras.layers.recurrent.LSTMCell object at 0x7fc92068ef10> has the same name 'LSTMCell' as a built-in Keras object. Consider renaming <class 'keras.layers.recurrent.LSTMCell'> to avoid naming conflicts when loading with `tf.keras.models.load_model`. If renaming is not possible, pass the object in the `custom_objects` parameter of the load function.\n"
          ]
        },
        {
          "name": "stdout",
          "output_type": "stream",
          "text": [
            "\b\b\b\b\b\b\b\b\b\b\b\b\b\b\b\b\b\b\b\b\b\b\b\b\b\b\b\b\b\b\b\b\b\b\b\b\b\b\b\b\b\b\b\b\b\b\b\b\b\b\b\b\b\b\b\b\b\b\b\b\b\b\b\b\b\b\b\b\b\b\b\b\b\b\b\b\b\b\b\r156/156 [==============================] - 127s 815ms/step - loss: 1.1674 - MSE: 1.1674 - val_loss: 0.4013 - val_MSE: 0.4013\n",
            "Epoch 22/30\n",
            "156/156 [==============================] - 100s 638ms/step - loss: 1.1765 - MSE: 1.1765 - val_loss: 2.2117 - val_MSE: 2.2117\n",
            "Epoch 23/30\n",
            "156/156 [==============================] - 99s 637ms/step - loss: 1.3426 - MSE: 1.3426 - val_loss: 0.4751 - val_MSE: 0.4751\n",
            "Epoch 24/30\n",
            "156/156 [==============================] - ETA: 0s - loss: 1.1282 - MSE: 1.1282"
          ]
        },
        {
          "name": "stderr",
          "output_type": "stream",
          "text": [
            "WARNING:absl:Found untraced functions such as lstm_cell_1_layer_call_fn, lstm_cell_1_layer_call_and_return_conditional_losses, lstm_cell_2_layer_call_fn, lstm_cell_2_layer_call_and_return_conditional_losses, lstm_cell_4_layer_call_fn while saving (showing 5 of 8). These functions will not be directly callable after loading.\n"
          ]
        },
        {
          "name": "stdout",
          "output_type": "stream",
          "text": [
            "INFO:tensorflow:Assets written to: export_model1/assets\n"
          ]
        },
        {
          "name": "stderr",
          "output_type": "stream",
          "text": [
            "INFO:tensorflow:Assets written to: export_model1/assets\n",
            "WARNING:absl:<keras.layers.recurrent.LSTMCell object at 0x7fc92210d390> has the same name 'LSTMCell' as a built-in Keras object. Consider renaming <class 'keras.layers.recurrent.LSTMCell'> to avoid naming conflicts when loading with `tf.keras.models.load_model`. If renaming is not possible, pass the object in the `custom_objects` parameter of the load function.\n",
            "WARNING:absl:<keras.layers.recurrent.LSTMCell object at 0x7fc92210bd90> has the same name 'LSTMCell' as a built-in Keras object. Consider renaming <class 'keras.layers.recurrent.LSTMCell'> to avoid naming conflicts when loading with `tf.keras.models.load_model`. If renaming is not possible, pass the object in the `custom_objects` parameter of the load function.\n",
            "WARNING:absl:<keras.layers.recurrent.LSTMCell object at 0x7fc92068e350> has the same name 'LSTMCell' as a built-in Keras object. Consider renaming <class 'keras.layers.recurrent.LSTMCell'> to avoid naming conflicts when loading with `tf.keras.models.load_model`. If renaming is not possible, pass the object in the `custom_objects` parameter of the load function.\n",
            "WARNING:absl:<keras.layers.recurrent.LSTMCell object at 0x7fc92068ef10> has the same name 'LSTMCell' as a built-in Keras object. Consider renaming <class 'keras.layers.recurrent.LSTMCell'> to avoid naming conflicts when loading with `tf.keras.models.load_model`. If renaming is not possible, pass the object in the `custom_objects` parameter of the load function.\n"
          ]
        },
        {
          "name": "stdout",
          "output_type": "stream",
          "text": [
            "\b\b\b\b\b\b\b\b\b\b\b\b\b\b\b\b\b\b\b\b\b\b\b\b\b\b\b\b\b\b\b\b\b\b\b\b\b\b\b\b\b\b\b\b\b\b\b\b\b\b\b\b\b\b\b\b\b\b\b\b\b\b\b\b\b\b\b\b\b\b\b\b\b\b\b\b\b\b\b\r156/156 [==============================] - 128s 819ms/step - loss: 1.1282 - MSE: 1.1282 - val_loss: 0.3513 - val_MSE: 0.3513\n",
            "Epoch 25/30\n",
            "156/156 [==============================] - 99s 635ms/step - loss: 1.0734 - MSE: 1.0734 - val_loss: 0.3746 - val_MSE: 0.3746\n",
            "Epoch 26/30\n",
            "156/156 [==============================] - 100s 639ms/step - loss: 1.0395 - MSE: 1.0395 - val_loss: 0.4056 - val_MSE: 0.4056\n",
            "Epoch 27/30\n",
            "156/156 [==============================] - 99s 638ms/step - loss: 1.1678 - MSE: 1.1678 - val_loss: 0.6328 - val_MSE: 0.6328\n",
            "Epoch 28/30\n",
            "156/156 [==============================] - 99s 637ms/step - loss: 0.9939 - MSE: 0.9939 - val_loss: 0.3729 - val_MSE: 0.3729\n"
          ]
        }
      ],
      "source": [
        "#Запустим обучение\n",
        "history1 = model1.fit(train_ds1,\n",
        "                     validation_data = val_ds1,\n",
        "                     epochs = EPOCHS,\n",
        "                     callbacks = [earlystop,checkpointer1],\n",
        "                     )"
      ]
    },
    {
      "cell_type": "code",
      "execution_count": 21,
      "id": "PiBm1ivA1fPW",
      "metadata": {
        "colab": {
          "base_uri": "https://localhost:8080/",
          "height": 337
        },
        "id": "PiBm1ivA1fPW",
        "outputId": "6b11e774-5e12-4578-d542-0df6611c14ed"
      },
      "outputs": [
        {
          "data": {
            "image/png": "[encoded data removed]",
            "text/plain": [
              "<Figure size 864x360 with 2 Axes>"
            ]
          },
          "metadata": {},
          "output_type": "display_data"
        }
      ],
      "source": [
        "plot_history(history1, 'MSE')"
      ]
    },
    {
      "cell_type": "code",
      "execution_count": 22,
      "id": "elFsx0kV1xZO",
      "metadata": {
        "colab": {
          "base_uri": "https://localhost:8080/"
        },
        "id": "elFsx0kV1xZO",
        "outputId": "d2ae5d11-c912-4f42-c5c4-9b84bb0c82fb"
      },
      "outputs": [
        {
          "name": "stdout",
          "output_type": "stream",
          "text": [
            "196/196 [==============================] - 42s 205ms/step - loss: 5.8294 - MSE: 5.8294\n"
          ]
        },
        {
          "data": {
            "text/plain": [
              "[5.829432010650635, 5.829432010650635]"
            ]
          },
          "execution_count": 22,
          "metadata": {},
          "output_type": "execute_result"
        }
      ],
      "source": [
        "#Оценим метрику на тестовом датасете\n",
        "loaded_model1 = K.models.load_model('export_model1')\n",
        "loaded_model1.evaluate(test_ds1)"
      ]
    },
    {
      "cell_type": "code",
      "execution_count": 27,
      "id": "ff0Zfqw__nBE",
      "metadata": {
        "colab": {
          "base_uri": "https://localhost:8080/"
        },
        "id": "ff0Zfqw__nBE",
        "outputId": "36d9292a-76fd-4644-a52e-a4cdb49dff37"
      },
      "outputs": [
        {
          "name": "stdout",
          "output_type": "stream",
          "text": [
            "Review:b\"I went to see this thinking it would be a great comedy and a comeback for Robin Williams, but when I saw it I realized I had bee lied to by advertisers as this is more drama than comedy, although it has a few really good laughs in it. It felt like I was watching two movies. One was a funny romp with Robin Williams that should have been the whole basin for the movie anyway, but you also get a techno thriller movie with political angst in the middle. I really don't know how to classify this film. But I can tell you it was good and I did laugh, not as much as I had hoped, but at least Williams is back in the right direction. See this but know before going it is not all comedy and is a little intense.\"\n",
            "True label:7\n",
            "Predict label:7\n",
            "Review:b\"One of the best! As being a fan of the civil war, I was very pleased with the first installment of the North and South trilogy. Patrick Swayze gives and extraordinary performance, as well as James Reed and Leslie Ann Down. In watching this fabulous story unfold into a time never forgotten, the subjects of love, passion, grief, shame, harmony, and cruelty come to life. I was first introduced to this series when I was in the eighth grade. Being a young boy, you would think that I wouldn't have been interested in this civil war soap. To be honest, this story stole the hearts of every one in my class, and this is just the first book. I bought the novel and studied the likes and differences and it was awesome. I am 17 now and still enjoy the story, characters, subject, and remember the times of the civil war. As a movie director of the future, I will always enjoy North and South: Book One.\"\n",
            "True label:10\n",
            "Predict label:9\n",
            "Review:b'I love this movie. <br /><br />Yes, the main character lies, but that\\'s why it\\'s called \"big fat liar\". Even though this kid runs away to Hollywood, it doesn\\'t give kids the idea that they can. Besides, he doesn\\'t just do it for fun or to get away from anything, he does it to regain trust. <br /><br />I don\\'t think it was just one big ad for Universal Studios, because I liked how it gave an inside view of what it\\'s like for kids who don\\'t know how cool movie-making is. <br /><br />It has good music and fun characters. This family/comedy is totally fun for kids and parents alike. It has humour, excitement, and real life difficulties like lying.<br /><br />In the end, \"Big Fat Liar\" sends out a moral: don\\'t expect lying to be easy.'\n",
            "True label:10\n",
            "Predict label:9\n",
            "Review:b\"The daytime TV of films. Seldom have I felt so little attachment to characters. Seldom have I been made to cringe by such dire dialogue. Nauseous London thirty-somethings mincing round lurid BBC sets spouting platitudinous mulch. Avoid this film as if it were your grandmother's clunge.\"\n",
            "True label:1\n",
            "Predict label:3\n",
            "Review:b'Any horror film that casts Robert Englund (Freddie Kruger!) then kills him in the opening 5 minutes before the opening credits have even run should be instantly viewed with nothing but suspicion.<br /><br />Tony Todd (Candyman!) as a swamp tour guide (his James Earl Jones voice impression is hysterical by the way, I don\\'t know or care if he was trying to be funny but I was laughing at it). Sadly his role was all of 5 minutes long as well. More reasons for suspicion and quite rightly so.<br /><br />Mercedes McNab (AKA Harmony from Buffy & Angel, I had to look her up to see what I remembered her from but she gets semi-naked!), Marcus the token black guy (Not Another Teen Movie) is filling a comedy role that really isn\\'t required in a horror movie unless it\\'s intended as a spoof.<br /><br />Joel Murray (Bill Murray\\'s brother & Pete from Dharma & Greg) plays Shapiro, the guy shooting the gonzo video with the 2 cute girls. As they take a \"Spooky Swap Ghost Tour\" the 2 lead male characters meet up with some other folks and get run aground on rocks and have to leave the boat. So their now all isolated in the swamp at night in the rain.<br /><br />Once the real story of Victor Crowley has been told (his make-up looked like Sloth from The Goonies) we have established he is dead (well you aren\\'t coming back from being hit in the skull by an Axe!) Once the old guy is attacked, despite pulling her gun and having a very clear shot it takes Marybeth more than 30 seconds to actually start firing at a guy who is hacking an old man apart with a hatchet. Is she stupid? Thats 29 second too long! In terms of plot there really isn\\'t one (I don\\'t class undead psycho as a plot, sorry) and the pacing is really bad as well. You have a killing, some running away, some light relief then some slow dialogue before beginning the cycle again.<br /><br />After an extremely long scene investigating a wobbly bush with a raccoon in it Victor appears again (with some sort of power tool) and kills the dark haired porno girl, he also manages to slice the tour guide in half with a Shovel? Once Misty is left on her own to keep lookout for Ben I felt it was pretty obvious she was going to be the next to die (I was right but you don\\'t get to see it).<br /><br />Film makers? Rain will NOT extinguish burning gasoline, OK? Idiots! Obviously after the 2 near misses in the cemetery Marcus was next to die and Ben was hurt in the foot with the spike but they managed to find a boat after impaling Victor on the spike.<br /><br />She\\'s pulled into the water by something unseen, he\\'s trying to save her then she\\'s suddenly pulled into the boat by Victor and is screaming and the movie abruptly ends.<br /><br />Yeah, just like that. No clue if Ben was dead (he seemed to be missing an arm) and no clue if Marybeth was going to survive and what happened with Victor.<br /><br />It\\'s an awful ending and no doubt my verbal attack at the film makers got the last review deleted. So much for free speech, eh?'\n",
            "True label:1\n",
            "Predict label:1\n",
            "Review:b\"It is the best movie released in Bollywood upto date. The best comedy, the best acting and the best direction till now! Rajkumar Santoshi's writing and direction proved that he is one of the best directors in the industry. Aamir Khan was absolutely amazing, Salman Khan looked good the way he acted. Shakti Kapoor was good, but Jagdeep over acted as usual! This comedy is still copied by people and no other writers and directors have been able to make this thing again! Even Rajkumar Santoshi hasn't been able to make this cult classic again! This movie was a flop when it released but it has been a cult classic since it released and loved by all kinds of people.<br /><br />STAR.<br /><br />ACTING 10/10.<br /><br />DIALOGUES 10/10.<br /><br />SCREENPLAY 10/10.<br /><br />DIRECTION 10/10.<br /><br />MUSIC 9/10.<br /><br />LYRICS 9/10.<br /><br />Overall, This movie is strongly recommended. If you didn't watch it till now, you missed something big! It is a laugh riot and the best comedy i have seen till date! Classic Films like Hera Pheri, Golmaal and Jaane Bhi Do Jaaro are not even half as funny as this.<br /><br />GREAT MOVIE, HATS OFF!!!!\"\n",
            "True label:10\n",
            "Predict label:10\n",
            "Review:b\"If you can watch a Bond film from 1983 that isn't as good as Octopussy and still enjoy it.<br /><br />If you can accept production values which aren't that much above the level of a TV movie.<br /><br />If you can look at Sean Connery with wrinkles on his forehead beneath an obvious toup\\xc3\\xa9e and still see James Bond.<br /><br />If you can get past an inexperienced Basinger, a weaker Largo and a jolly Q.<br /><br />If you can learn to love an idiosyncratic score, not up there with Barry on his worst day.<br /><br />If you don't believe the hyperbolic reviews that it was greeted with on release.<br /><br />If you can meet a poker battle and a video game face off and enjoy them both the same.<br /><br />Yours is Never Say Never Again and everything that's in it.<br /><br />And, what is more, you'll probably enjoy it, my son!\"\n",
            "True label:8\n",
            "Predict label:6\n",
            "Review:b'I am a huge fan of the Farcry Game, HUGE fan. It still holds a place in my top-10 games list of all time! The story line was new, fresh... A truly brilliant foundation to base a movie on... or so i thought...<br /><br />Farcry the Movie is no less than another directors attempt at cashing in on a successful game franchise (see Doom: The Movie, and many more...).<br /><br />The Video Game begins as the player (Jack Carver) awakes in a sea side cave after been shot off his boat by an RPG from an unknown soldier. Jack then finds a communication device where (Harlan Doyle) guides him across islands, shipwrecks, jungles, installations and VOLCANOES, to find his (lady friend?) (Valerie Constantine), all the wile battling mutated super soldiers, and genetically enhanced animals.<br /><br />The Movie plays out very, very differently: 1: There\\'s a needless 30 mins (1/3 of the movie) of \"backstory\" before we even get to the \\'boat blowing up\\' scene. 2: Jack then walks onto the beach, kills some goons, then drives off... Nothing like the game... 3: There is no communicator with Doyle on the other end... 4: The \\'Modified Soldiers\\' look like albinos with singlets on... And there was no mutated \\'monkey-like\\' creatures jumping out of the bushes. A part of the Farcry game i enjoyed allot... 5: There is no sun filled beach scenes, no aircraft carrier, no communications stations on huge cliffs, LITTLE reference to any in-game contents (characters/items/vehicles), in fact no attempt to follow the story line at all. 6: The climactic Volcano scene from the game is replaced with an old industrial building. 7: There\\'s an Ending scene... where everyone (except Krieger) live happily ever after... WHAT THE!<br /><br />I recommend avoiding this movie at all costs! If you are a Gamer, you will HATE this movie will all your soul. It is a movie clearly intended for males, so girls, stay away... So if your a male, 12-29 years of age, have never played Farcry, and are not disgusted by directors attempts at porting books/games to the cinema... then this is for you...'\n",
            "True label:2\n",
            "Predict label:2\n",
            "Review:b\"Surface was one of the few truly unique shows on TV last season. I can honestly say I modified my schedule so I could be home to watch every episode. Tons of action, suspense, science fiction, etc.<br /><br />Story was of a boy who found an egg that hatched into a sea creature. The same sea creature that had killed the main character's brother and the woman character (oceanographer) had seen. Most people think it is a deadly killing machine but the one raised from the egg was very friendly.<br /><br />Only problem is NBC canceled it so now we'll never know what happens... Hopefully Sci-Fi or some other channel will pick it up.\"\n",
            "True label:10\n",
            "Predict label:9\n",
            "Review:b\"Based on its current IMDb rating as well as several plot summaries, I didn't expect much from 'Two Hands'. But how wrong I was. <br /><br />From start to finish, you're kept deeply engrossed in a genre which has been continuously unoriginal for quite a while. Even in terms of mise-en-scene and cinematography, the director excels and creates a film consisting of great imagination. If you're looking for a film which is not only entertaining, but also provocative, compelling, and genuinely extraordinary, then make this the next film you watch. <br /><br />I'm hoping Heath Ledger's tragic death will have lead to more people picking up this film. He was an incredible talent, and his performance in this is one not to be missed. Don't make the mistake of judging and discarding this amazing film before you've seen it.\"\n",
            "True label:8\n",
            "Predict label:8\n"
          ]
        }
      ],
      "source": [
        "for text_batch, label_batch in test_ds1.take(1):\n",
        "    pred = loaded_model1.predict(text_batch)\n",
        "    for i in range(10):\n",
        "        print(f'Review:{text_batch.numpy()[i]}')\n",
        "        print(f'True label:{label_batch.numpy()[i]}')\n",
        "        print(f'Predict label:{int(loaded_model1.predict(text_batch)[i][0] + (0.5))}')"
      ]
    },
    {
      "cell_type": "code",
      "execution_count": 28,
      "id": "4bdd56f5",
      "metadata": {
        "id": "4bdd56f5"
      },
      "outputs": [],
      "source": [
        "#Создадим модель\n",
        "model2 = K.Sequential(\n",
        "    [\n",
        "        model1,\n",
        "        K.layers.Activation (\"sigmoid\")\n",
        "    ])"
      ]
    },
    {
      "cell_type": "code",
      "execution_count": 29,
      "id": "773d691e",
      "metadata": {
        "colab": {
          "base_uri": "https://localhost:8080/"
        },
        "id": "773d691e",
        "outputId": "1716d069-1744-43cd-843e-ec6c255274ca"
      },
      "outputs": [
        {
          "name": "stdout",
          "output_type": "stream",
          "text": [
            "Model: \"sequential_1\"\n",
            "_________________________________________________________________\n",
            " Layer (type)                Output Shape              Param #   \n",
            "=================================================================\n",
            " sequential (Sequential)     (None, 1)                 6679809   \n",
            "                                                                 \n",
            " activation (Activation)     (None, 1)                 0         \n",
            "                                                                 \n",
            "=================================================================\n",
            "Total params: 6,679,809\n",
            "Trainable params: 6,679,809\n",
            "Non-trainable params: 0\n",
            "_________________________________________________________________\n"
          ]
        }
      ],
      "source": [
        "#Скомпилируем ее\n",
        "model2.compile(loss=\"binary_crossentropy\",\n",
        "              optimizer=\"adam\",\n",
        "              metrics=[\"acc\"],\n",
        "             )\n",
        "model2.summary()"
      ]
    },
    {
      "cell_type": "code",
      "execution_count": 30,
      "id": "d526e6a9",
      "metadata": {
        "colab": {
          "base_uri": "https://localhost:8080/"
        },
        "id": "d526e6a9",
        "outputId": "ae2501dc-ce8f-4632-9a1b-86ce78e19916"
      },
      "outputs": [
        {
          "name": "stdout",
          "output_type": "stream",
          "text": [
            "Epoch 1/30\n",
            "157/157 [==============================] - ETA: 0s - loss: 0.1201 - acc: 0.9406"
          ]
        },
        {
          "name": "stderr",
          "output_type": "stream",
          "text": [
            "WARNING:absl:Found untraced functions such as lstm_cell_1_layer_call_fn, lstm_cell_1_layer_call_and_return_conditional_losses, lstm_cell_2_layer_call_fn, lstm_cell_2_layer_call_and_return_conditional_losses, lstm_cell_4_layer_call_fn while saving (showing 5 of 8). These functions will not be directly callable after loading.\n"
          ]
        },
        {
          "name": "stdout",
          "output_type": "stream",
          "text": [
            "INFO:tensorflow:Assets written to: export_model2/assets\n"
          ]
        },
        {
          "name": "stderr",
          "output_type": "stream",
          "text": [
            "INFO:tensorflow:Assets written to: export_model2/assets\n",
            "WARNING:absl:<keras.layers.recurrent.LSTMCell object at 0x7fc92210d390> has the same name 'LSTMCell' as a built-in Keras object. Consider renaming <class 'keras.layers.recurrent.LSTMCell'> to avoid naming conflicts when loading with `tf.keras.models.load_model`. If renaming is not possible, pass the object in the `custom_objects` parameter of the load function.\n",
            "WARNING:absl:<keras.layers.recurrent.LSTMCell object at 0x7fc92210bd90> has the same name 'LSTMCell' as a built-in Keras object. Consider renaming <class 'keras.layers.recurrent.LSTMCell'> to avoid naming conflicts when loading with `tf.keras.models.load_model`. If renaming is not possible, pass the object in the `custom_objects` parameter of the load function.\n",
            "WARNING:absl:<keras.layers.recurrent.LSTMCell object at 0x7fc92068e350> has the same name 'LSTMCell' as a built-in Keras object. Consider renaming <class 'keras.layers.recurrent.LSTMCell'> to avoid naming conflicts when loading with `tf.keras.models.load_model`. If renaming is not possible, pass the object in the `custom_objects` parameter of the load function.\n",
            "WARNING:absl:<keras.layers.recurrent.LSTMCell object at 0x7fc92068ef10> has the same name 'LSTMCell' as a built-in Keras object. Consider renaming <class 'keras.layers.recurrent.LSTMCell'> to avoid naming conflicts when loading with `tf.keras.models.load_model`. If renaming is not possible, pass the object in the `custom_objects` parameter of the load function.\n"
          ]
        },
        {
          "name": "stdout",
          "output_type": "stream",
          "text": [
            "\b\b\b\b\b\b\b\b\b\b\b\b\b\b\b\b\b\b\b\b\b\b\b\b\b\b\b\b\b\b\b\b\b\b\b\b\b\b\b\b\b\b\b\b\b\b\b\b\b\b\b\b\b\b\b\b\b\b\b\b\b\b\b\b\b\b\b\b\b\b\b\b\b\b\b\b\b\b\b\r157/157 [==============================] - 149s 902ms/step - loss: 0.1201 - acc: 0.9406 - val_loss: 0.0333 - val_acc: 0.9910\n",
            "Epoch 2/30\n",
            "157/157 [==============================] - ETA: 0s - loss: 0.0296 - acc: 0.9916\n",
            "Reached 97.0% accuracy so cancelling training!\n",
            "157/157 [==============================] - 101s 642ms/step - loss: 0.0296 - acc: 0.9916 - val_loss: 0.0437 - val_acc: 0.9862\n"
          ]
        }
      ],
      "source": [
        "#Запустим обучение\n",
        "history2 = model2.fit(raw_train_ds,\n",
        "                    validation_data= raw_val_ds,\n",
        "                    epochs = EPOCHS,\n",
        "                    callbacks = [mycallback,earlystop,checkpointer2])"
      ]
    },
    {
      "cell_type": "code",
      "execution_count": 31,
      "id": "fe4ef8bb",
      "metadata": {
        "colab": {
          "base_uri": "https://localhost:8080/",
          "height": 337
        },
        "id": "fe4ef8bb",
        "outputId": "ce43e201-a449-44af-8364-372ee2863f89"
      },
      "outputs": [
        {
          "data": {
            "image/png": "[encoded data removed]",
            "text/plain": [
              "<Figure size 864x360 with 2 Axes>"
            ]
          },
          "metadata": {},
          "output_type": "display_data"
        }
      ],
      "source": [
        "plot_history(history2, 'acc')"
      ]
    },
    {
      "cell_type": "code",
      "execution_count": 32,
      "id": "fe105436",
      "metadata": {
        "colab": {
          "base_uri": "https://localhost:8080/"
        },
        "id": "fe105436",
        "outputId": "1ad8b021-18e3-4b0a-ec20-c6b076a4243d"
      },
      "outputs": [
        {
          "name": "stdout",
          "output_type": "stream",
          "text": [
            "196/196 [==============================] - 44s 213ms/step - loss: 0.7579 - acc: 0.8292\n"
          ]
        },
        {
          "data": {
            "text/plain": [
              "[0.7579371333122253, 0.8291599750518799]"
            ]
          },
          "execution_count": 32,
          "metadata": {},
          "output_type": "execute_result"
        }
      ],
      "source": [
        "#Оценим работу модели на тестовом датасете\n",
        "loaded_model2 = K.models.load_model('export_model2')\n",
        "loaded_model2.evaluate(raw_test_ds)"
      ]
    },
    {
      "cell_type": "code",
      "execution_count": 33,
      "id": "e39808ea",
      "metadata": {
        "colab": {
          "base_uri": "https://localhost:8080/"
        },
        "id": "e39808ea",
        "outputId": "fbfcf54e-d3eb-4038-fda2-1da2f4be546e"
      },
      "outputs": [
        {
          "name": "stdout",
          "output_type": "stream",
          "text": [
            "Review:b'This movie starts out promisingly, with an early scene in which Frank Morgan advises against Gary Cooper\\'s marriage to his daughter, Anita Louise. Frank Morgan, playing an unabashed gold-digger, loudly complains to Cooper about his perceived penury at the hands of his family - including his daughter, Anita Louise. I am a fan of all 3 actors. Frank Morgan is (to my mind) a Hollywood treasure, Cooper a legend, and Louise a very lovely, versatile and under-appreciated actress seldom seen in the leading role. I also have nothing against Teresa Wright, and while not blessed with great range, she usually delivers heart-warming performances.<br /><br />From a promising opening, the story slides downhill all the way to the end. I found nothing humorous about burning down the home of Cooper\\'s would-be in-laws. The butler in such a fastidious, non-smoking household would never just blithely walk away, allowing Cooper to continue smoking, or alternatively he would certainly supply him with some means of disposing of his ill-timed cigarette. Moreover, nobody with any common sense would permit himself to be left holding a lit cigarette without asking for some means of disposing of it. And finally, nobody in his right mind crushes out a cigarette in a handkerchief and sticks it in his pocket! This whole sequence just made Cooper seem foolish and gauche. It is a poor contrivance - ill conceived and filmed in a way that induces ridicule not laughter. <br /><br />The forced medical examination of Cooper is equally contrived. Nobody lets himself undergo a complete medical examination without his being advised of its purpose or giving his consent! That Cooper did so is too removed from reality to be funny - it\\'s absurd! Stealing babies from hospitals is a serious legal offense, and that, too, is nothing to laugh about. Finally, the scenes of Cooper\\'s overly fastidious, neurotic attention to his baby\\'s feeding and weight may have struck a nerve with a few people who have experienced anxiety over their own newborn babies. But to me they just seem tedious and slow. The wardrobe and prop departments went over the top in those scenes, while paradoxically, the script writer went to sleep.<br /><br />The lines are just not in the script to generate humor. They just miss on all cylinders. The laughs come not a mile-a-minute, but more like a light year-a-minute. The only time the movie has any energy or humor is when Frank Morgan is on camera.<br /><br />The scene that is totally wasted is when both of Cooper\\'s love interests and their respective fathers are cooped up in the same hotel room together. There is probably a rich vein of humor somewhere in that mine, but none of it was extracted.<br /><br />In the end, one of the two very likable girls is going to get hurt. Predictably, it is the Anita Louise character, who gets jilted on her would-be-wedding night! While it is not on camera, that is her fate, and it is not particularly funny - even as a loose end. She hadn\\'t done anything in this film to make me unsympathetic (unlike Gail Patrick, say, in My Favorite Wife). Consequently, I was expecting (perhaps \"hoping\" is a better word in the context of the film!) for Anita Louise to enjoy a happy ending, too. The fact that such a nice character is essentially wiped out at the movie\\'s end really undermines the effect of the \"happy ending\" for Cooper and Wright.<br /><br />I kept waiting for something to happen, for the witty dialog so characteristic of movies of the era... And it never delivered. A good performance by Frank Morgan in a slightly different role is totally wasted here.'\n",
            "True label:0\n",
            "Predict label:False\n"
          ]
        }
      ],
      "source": [
        "#Посмотрим на одном примере\n",
        "for text_batch, label_batch in raw_train_ds.take(1):\n",
        "    pred = loaded_model2.predict(text_batch)\n",
        "    for i in range(1):\n",
        "        print(f'Review:{text_batch.numpy()[i]}')\n",
        "        print(f'True label:{label_batch.numpy()[i]}')\n",
        "        print(f'Predict label:{pred[i][0]>=0.5}')"
      ]
    }
  ],
  "metadata": {
    "accelerator": "GPU",
    "colab": {
      "collapsed_sections": [],
      "name": "test_case_v4_colab (1).ipynb",
      "provenance": []
    },
    "kernelspec": {
      "display_name": "Python 3 (ipykernel)",
      "language": "python",
      "name": "python3"
    },
    "language_info": {
      "codemirror_mode": {
        "name": "ipython",
        "version": 3
      },
      "file_extension": ".py",
      "mimetype": "text/x-python",
      "name": "python",
      "nbconvert_exporter": "python",
      "pygments_lexer": "ipython3",
      "version": "3.9.7"
    }
  },
  "nbformat": 4,
  "nbformat_minor": 5
}
